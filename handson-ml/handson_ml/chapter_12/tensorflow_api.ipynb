{
 "cells": [
  {
   "cell_type": "code",
   "execution_count": 3,
   "id": "28caedaf-7ef1-4ffa-928e-2e962682d744",
   "metadata": {
    "execution": {
     "iopub.execute_input": "2023-10-28T07:10:34.170894Z",
     "iopub.status.busy": "2023-10-28T07:10:34.170496Z",
     "iopub.status.idle": "2023-10-28T07:10:34.174999Z",
     "shell.execute_reply": "2023-10-28T07:10:34.173966Z",
     "shell.execute_reply.started": "2023-10-28T07:10:34.170870Z"
    }
   },
   "outputs": [],
   "source": [
    "import tensorflow as tf"
   ]
  },
  {
   "cell_type": "markdown",
   "id": "f686b6d4-06bb-4447-a32e-78f93bdf8c02",
   "metadata": {},
   "source": [
    "## String Tensors"
   ]
  },
  {
   "cell_type": "code",
   "execution_count": 7,
   "id": "f557dd46-8a1f-43f2-abaf-899572801b1d",
   "metadata": {
    "execution": {
     "iopub.execute_input": "2023-10-28T07:11:57.227889Z",
     "iopub.status.busy": "2023-10-28T07:11:57.227423Z",
     "iopub.status.idle": "2023-10-28T07:11:57.232769Z",
     "shell.execute_reply": "2023-10-28T07:11:57.232433Z",
     "shell.execute_reply.started": "2023-10-28T07:11:57.227854Z"
    }
   },
   "outputs": [
    {
     "data": {
      "text/plain": [
       "<tf.Tensor: shape=(), dtype=string, numpy=b'm\\xc3\\xa1ng\\xc3\\xb3'>"
      ]
     },
     "execution_count": 7,
     "metadata": {},
     "output_type": "execute_result"
    }
   ],
   "source": [
    "s = tf.constant(\"mángó\")\n",
    "s"
   ]
  },
  {
   "cell_type": "code",
   "execution_count": 9,
   "id": "707a38be-7352-432e-93cf-4e2a0aeb22fb",
   "metadata": {
    "execution": {
     "iopub.execute_input": "2023-10-28T07:12:15.195884Z",
     "iopub.status.busy": "2023-10-28T07:12:15.195739Z",
     "iopub.status.idle": "2023-10-28T07:12:15.199112Z",
     "shell.execute_reply": "2023-10-28T07:12:15.198761Z",
     "shell.execute_reply.started": "2023-10-28T07:12:15.195875Z"
    }
   },
   "outputs": [
    {
     "data": {
      "text/plain": [
       "<tf.Tensor: shape=(), dtype=int32, numpy=5>"
      ]
     },
     "execution_count": 9,
     "metadata": {},
     "output_type": "execute_result"
    }
   ],
   "source": [
    "tf.strings.length(s, unit=\"UTF8_CHAR\")"
   ]
  },
  {
   "cell_type": "code",
   "execution_count": 18,
   "id": "cf9988bf-b8ae-458a-9da4-0a671c18719d",
   "metadata": {
    "execution": {
     "iopub.execute_input": "2023-10-28T07:18:19.487423Z",
     "iopub.status.busy": "2023-10-28T07:18:19.487084Z",
     "iopub.status.idle": "2023-10-28T07:18:19.490388Z",
     "shell.execute_reply": "2023-10-28T07:18:19.490159Z",
     "shell.execute_reply.started": "2023-10-28T07:18:19.487399Z"
    }
   },
   "outputs": [
    {
     "data": {
      "text/plain": [
       "<tf.Tensor: shape=(5,), dtype=int32, numpy=array([109, 225, 110, 103, 243], dtype=int32)>"
      ]
     },
     "execution_count": 18,
     "metadata": {},
     "output_type": "execute_result"
    }
   ],
   "source": [
    "i = tf.strings.unicode_decode(s, \"UTF8\")\n",
    "i"
   ]
  },
  {
   "cell_type": "code",
   "execution_count": 16,
   "id": "692dc9da-19e5-4352-81d7-53f4b5472a34",
   "metadata": {
    "execution": {
     "iopub.execute_input": "2023-10-28T07:17:57.280192Z",
     "iopub.status.busy": "2023-10-28T07:17:57.279934Z",
     "iopub.status.idle": "2023-10-28T07:17:57.285278Z",
     "shell.execute_reply": "2023-10-28T07:17:57.285043Z",
     "shell.execute_reply.started": "2023-10-28T07:17:57.280174Z"
    }
   },
   "outputs": [
    {
     "data": {
      "text/plain": [
       "<tf.Tensor: shape=(), dtype=string, numpy=b'm\\xc3\\xa1ng\\xc3\\xb3'>"
      ]
     },
     "execution_count": 16,
     "metadata": {},
     "output_type": "execute_result"
    }
   ],
   "source": [
    "tf.strings.unicode_encode(i, \"UTF-8\")"
   ]
  },
  {
   "cell_type": "code",
   "execution_count": 50,
   "id": "8a64cd33-b986-4c3e-9289-39d662a24d33",
   "metadata": {
    "execution": {
     "iopub.execute_input": "2023-10-28T07:28:01.708367Z",
     "iopub.status.busy": "2023-10-28T07:28:01.707906Z",
     "iopub.status.idle": "2023-10-28T07:28:01.716056Z",
     "shell.execute_reply": "2023-10-28T07:28:01.715589Z",
     "shell.execute_reply.started": "2023-10-28T07:28:01.708331Z"
    }
   },
   "outputs": [
    {
     "data": {
      "text/plain": [
       "<tf.Tensor: shape=(7,), dtype=string, numpy=\n",
       "array([b'apple', b'b\\xc3\\xa1nana', b'\\xc2\\xb5\\xc3\\xa1\\xc3\\x9f\\xc3\\xb0',\n",
       "       b'\\xd8\\xac\\xd9\\x88\\xd9\\x86 \\xd8\\xb3\\xd9\\x8a\\xd9\\x86\\xd8\\xa7',\n",
       "       b'\\xe7\\xba\\xa6\\xe7\\xbf\\xb0\\xe5\\xa1\\x9e\\xe7\\xba\\xb3',\n",
       "       b'\\xe3\\x82\\xb8\\xe3\\x83\\xa7\\xe3\\x83\\xb3\\xe3\\x83\\xbb\\xe3\\x82\\xb7\\xe3\\x83\\x8a',\n",
       "       b'\\xd0\\x94\\xd0\\xb6\\xd0\\xbe\\xd0\\xbd \\xd0\\xa1\\xd0\\xb8\\xd0\\xbd\\xd0\\xb0'],\n",
       "      dtype=object)>"
      ]
     },
     "execution_count": 50,
     "metadata": {},
     "output_type": "execute_result"
    }
   ],
   "source": [
    "t = tf.constant([\"apple\", \"bánana\", \"µáßð\", \"جون سينا\", \"约翰塞纳\", \"ジョン・シナ\", \"Джон Сина\"])\n",
    "t"
   ]
  },
  {
   "cell_type": "code",
   "execution_count": 51,
   "id": "3f5c7f12-a6d4-4ee2-a1b4-e130b0d7aa7b",
   "metadata": {
    "execution": {
     "iopub.execute_input": "2023-10-28T07:28:02.803720Z",
     "iopub.status.busy": "2023-10-28T07:28:02.803343Z",
     "iopub.status.idle": "2023-10-28T07:28:02.810148Z",
     "shell.execute_reply": "2023-10-28T07:28:02.809785Z",
     "shell.execute_reply.started": "2023-10-28T07:28:02.803690Z"
    }
   },
   "outputs": [
    {
     "data": {
      "text/plain": [
       "<tf.RaggedTensor [[97, 112, 112, 108, 101], [98, 225, 110, 97, 110, 97],\n",
       " [181, 225, 223, 240], [1580, 1608, 1606, 32, 1587, 1610, 1606, 1575],\n",
       " [32422, 32752, 22622, 32435], [12472, 12519, 12531, 12539, 12471, 12490],\n",
       " [1044, 1078, 1086, 1085, 32, 1057, 1080, 1085, 1072]]>"
      ]
     },
     "execution_count": 51,
     "metadata": {},
     "output_type": "execute_result"
    }
   ],
   "source": [
    "r = tf.strings.unicode_decode(t, \"UTF8\")\n",
    "r"
   ]
  },
  {
   "cell_type": "code",
   "execution_count": 45,
   "id": "9847a3cd-01c3-4ac3-87f8-ff8d886959df",
   "metadata": {
    "execution": {
     "iopub.execute_input": "2023-10-28T07:27:43.034653Z",
     "iopub.status.busy": "2023-10-28T07:27:43.034201Z",
     "iopub.status.idle": "2023-10-28T07:27:43.050224Z",
     "shell.execute_reply": "2023-10-28T07:27:43.049646Z",
     "shell.execute_reply.started": "2023-10-28T07:27:43.034617Z"
    }
   },
   "outputs": [
    {
     "data": {
      "text/plain": [
       "<tf.Tensor: shape=(), dtype=string, numpy=b'apple'>"
      ]
     },
     "execution_count": 45,
     "metadata": {},
     "output_type": "execute_result"
    }
   ],
   "source": [
    "tf.strings.unicode_encode(r[0], \"UTF-8\")"
   ]
  },
  {
   "cell_type": "markdown",
   "id": "4251f815-834a-4b73-80f6-b3faa74a800e",
   "metadata": {},
   "source": [
    "## Ragged Tensors"
   ]
  },
  {
   "cell_type": "code",
   "execution_count": 46,
   "id": "af13fdb2-7926-4d38-beb2-229304fb3085",
   "metadata": {
    "execution": {
     "iopub.execute_input": "2023-10-28T07:27:43.567822Z",
     "iopub.status.busy": "2023-10-28T07:27:43.567340Z",
     "iopub.status.idle": "2023-10-28T07:27:43.579902Z",
     "shell.execute_reply": "2023-10-28T07:27:43.579430Z",
     "shell.execute_reply.started": "2023-10-28T07:27:43.567785Z"
    }
   },
   "outputs": [
    {
     "data": {
      "text/plain": [
       "<tf.Tensor: shape=(5,), dtype=int32, numpy=array([ 97, 112, 112, 108, 101], dtype=int32)>"
      ]
     },
     "execution_count": 46,
     "metadata": {},
     "output_type": "execute_result"
    }
   ],
   "source": [
    "r[0]"
   ]
  },
  {
   "cell_type": "code",
   "execution_count": 48,
   "id": "01888e5c-451d-4f9e-af4a-79ad2b914696",
   "metadata": {
    "execution": {
     "iopub.execute_input": "2023-10-28T07:27:44.149457Z",
     "iopub.status.busy": "2023-10-28T07:27:44.149023Z",
     "iopub.status.idle": "2023-10-28T07:27:44.160816Z",
     "shell.execute_reply": "2023-10-28T07:27:44.160069Z",
     "shell.execute_reply.started": "2023-10-28T07:27:44.149422Z"
    }
   },
   "outputs": [
    {
     "data": {
      "text/plain": [
       "<tf.RaggedTensor [[97, 112, 112, 108, 101]]>"
      ]
     },
     "execution_count": 48,
     "metadata": {},
     "output_type": "execute_result"
    }
   ],
   "source": [
    "r[:1]"
   ]
  },
  {
   "cell_type": "code",
   "execution_count": 52,
   "id": "5ff5f6c1-c185-46b2-a09b-b1a996d23d79",
   "metadata": {
    "execution": {
     "iopub.execute_input": "2023-10-28T07:28:04.963216Z",
     "iopub.status.busy": "2023-10-28T07:28:04.962953Z",
     "iopub.status.idle": "2023-10-28T07:28:04.966657Z",
     "shell.execute_reply": "2023-10-28T07:28:04.966346Z",
     "shell.execute_reply.started": "2023-10-28T07:28:04.963202Z"
    }
   },
   "outputs": [
    {
     "data": {
      "text/plain": [
       "<tf.Tensor: shape=(7, 9), dtype=int32, numpy=\n",
       "array([[   97,   112,   112,   108,   101,     0,     0,     0,     0],\n",
       "       [   98,   225,   110,    97,   110,    97,     0,     0,     0],\n",
       "       [  181,   225,   223,   240,     0,     0,     0,     0,     0],\n",
       "       [ 1580,  1608,  1606,    32,  1587,  1610,  1606,  1575,     0],\n",
       "       [32422, 32752, 22622, 32435,     0,     0,     0,     0,     0],\n",
       "       [12472, 12519, 12531, 12539, 12471, 12490,     0,     0,     0],\n",
       "       [ 1044,  1078,  1086,  1085,    32,  1057,  1080,  1085,  1072]],\n",
       "      dtype=int32)>"
      ]
     },
     "execution_count": 52,
     "metadata": {},
     "output_type": "execute_result"
    }
   ],
   "source": [
    "r.to_tensor()"
   ]
  },
  {
   "cell_type": "code",
   "execution_count": 63,
   "id": "94bcc83e-ac9f-4ad9-8ef8-fd6c4a56d644",
   "metadata": {
    "execution": {
     "iopub.execute_input": "2023-10-28T07:41:16.486934Z",
     "iopub.status.busy": "2023-10-28T07:41:16.486482Z",
     "iopub.status.idle": "2023-10-28T07:41:16.499836Z",
     "shell.execute_reply": "2023-10-28T07:41:16.499603Z",
     "shell.execute_reply.started": "2023-10-28T07:41:16.486897Z"
    }
   },
   "outputs": [
    {
     "data": {
      "text/plain": [
       "<tf.RaggedTensor [[97, 112, 112, 108, 101], [98, 225, 110, 97, 110, 97],\n",
       " [181, 225, 223, 240], [1580, 1608, 1606, 32, 1587, 1610, 1606, 1575],\n",
       " [32422, 32752, 22622, 32435], [12472, 12519, 12531, 12539, 12471, 12490],\n",
       " [1044, 1078, 1086, 1085, 32, 1057, 1080, 1085, 1072], [1, 1, 1, 1],\n",
       " [2, 2, 2], [3, 3], [4]]>"
      ]
     },
     "execution_count": 63,
     "metadata": {},
     "output_type": "execute_result"
    }
   ],
   "source": [
    "r2 = tf.ragged.constant([[1, 1, 1, 1], [2, 2, 2], [3, 3], [4]])\n",
    "tf.concat([r, r2], axis=0)"
   ]
  },
  {
   "cell_type": "code",
   "execution_count": 60,
   "id": "4f370e5f-57c7-4c5a-b984-82376e593b74",
   "metadata": {
    "execution": {
     "iopub.execute_input": "2023-10-28T07:39:57.889688Z",
     "iopub.status.busy": "2023-10-28T07:39:57.889209Z",
     "iopub.status.idle": "2023-10-28T07:39:57.970320Z",
     "shell.execute_reply": "2023-10-28T07:39:57.970095Z",
     "shell.execute_reply.started": "2023-10-28T07:39:57.889650Z"
    }
   },
   "outputs": [
    {
     "data": {
      "text/plain": [
       "<tf.RaggedTensor [[97, 112, 112, 108, 101, 1, 1, 1, 1],\n",
       " [98, 225, 110, 97, 110, 97, 2, 2, 2], [181, 225, 223, 240, 3, 3],\n",
       " [1580, 1608, 1606, 32, 1587, 1610, 1606, 1575, 4],\n",
       " [32422, 32752, 22622, 32435], [12472, 12519, 12531, 12539, 12471, 12490],\n",
       " [1044, 1078, 1086, 1085, 32, 1057, 1080, 1085, 1072]]>"
      ]
     },
     "execution_count": 60,
     "metadata": {},
     "output_type": "execute_result"
    }
   ],
   "source": [
    "r2 = tf.ragged.constant([[1, 1, 1, 1], [2, 2, 2], [3, 3], [4], [], [], []])\n",
    "tf.concat([r, r2], axis=1)"
   ]
  },
  {
   "cell_type": "code",
   "execution_count": 117,
   "id": "94963e76-b32d-430f-a06c-59e3694deac2",
   "metadata": {
    "execution": {
     "iopub.execute_input": "2023-10-28T09:03:02.979549Z",
     "iopub.status.busy": "2023-10-28T09:03:02.978708Z",
     "iopub.status.idle": "2023-10-28T09:03:02.992495Z",
     "shell.execute_reply": "2023-10-28T09:03:02.992123Z",
     "shell.execute_reply.started": "2023-10-28T09:03:02.979461Z"
    }
   },
   "outputs": [],
   "source": [
    "mr = tf.ragged.constant(\n",
    "    [\n",
    "        [[1] * 3, [2] * 2, [3]],\n",
    "        [[4] * 4, [5] * 5, [6] * 6, [7] * 7],\n",
    "    ]\n",
    ")"
   ]
  },
  {
   "cell_type": "code",
   "execution_count": 118,
   "id": "428d322c-94be-420d-a2ca-5c62e58f7c62",
   "metadata": {
    "execution": {
     "iopub.execute_input": "2023-10-28T09:03:03.742839Z",
     "iopub.status.busy": "2023-10-28T09:03:03.742363Z",
     "iopub.status.idle": "2023-10-28T09:03:03.749715Z",
     "shell.execute_reply": "2023-10-28T09:03:03.748975Z",
     "shell.execute_reply.started": "2023-10-28T09:03:03.742803Z"
    }
   },
   "outputs": [
    {
     "data": {
      "text/plain": [
       "<tf.RaggedTensor [[[1, 1, 1], [2, 2], [3]],\n",
       " [[4, 4, 4, 4], [5, 5, 5, 5, 5], [6, 6, 6, 6, 6, 6], [7, 7, 7, 7, 7, 7, 7]]]>"
      ]
     },
     "execution_count": 118,
     "metadata": {},
     "output_type": "execute_result"
    }
   ],
   "source": [
    "mr"
   ]
  },
  {
   "cell_type": "code",
   "execution_count": 119,
   "id": "4a7d9c69-822a-4df5-9b39-be9594282466",
   "metadata": {
    "execution": {
     "iopub.execute_input": "2023-10-28T09:05:06.888726Z",
     "iopub.status.busy": "2023-10-28T09:05:06.888379Z",
     "iopub.status.idle": "2023-10-28T09:05:06.907229Z",
     "shell.execute_reply": "2023-10-28T09:05:06.906941Z",
     "shell.execute_reply.started": "2023-10-28T09:05:06.888700Z"
    }
   },
   "outputs": [
    {
     "data": {
      "text/plain": [
       "<tf.Tensor: shape=(2, 2, 3, 4), dtype=int32, numpy=\n",
       "array([[[[3, 1, 4, 1],\n",
       "         [0, 0, 0, 0],\n",
       "         [5, 9, 2, 0]],\n",
       "\n",
       "        [[0, 0, 0, 0],\n",
       "         [0, 0, 0, 0],\n",
       "         [0, 0, 0, 0]]],\n",
       "\n",
       "\n",
       "       [[[6, 0, 0, 0],\n",
       "         [0, 0, 0, 0],\n",
       "         [0, 0, 0, 0]],\n",
       "\n",
       "        [[0, 0, 0, 0],\n",
       "         [0, 0, 0, 0],\n",
       "         [0, 0, 0, 0]]]], dtype=int32)>"
      ]
     },
     "execution_count": 119,
     "metadata": {},
     "output_type": "execute_result"
    }
   ],
   "source": [
    "tf.RaggedTensor.from_nested_row_splits(\n",
    "    flat_values=[3, 1, 4, 1, 5, 9, 2, 6],\n",
    "    nested_row_splits=[[0, 2, 3], [0, 3, 3, 5], [0, 4, 4, 7, 8, 8]],\n",
    ").to_tensor()"
   ]
  },
  {
   "cell_type": "markdown",
   "id": "eb9935ee-dc3c-4d3a-b29e-25e6ca153d40",
   "metadata": {
    "execution": {
     "iopub.execute_input": "2023-10-28T07:31:16.431645Z",
     "iopub.status.busy": "2023-10-28T07:31:16.431177Z",
     "iopub.status.idle": "2023-10-28T07:31:16.437864Z",
     "shell.execute_reply": "2023-10-28T07:31:16.436739Z",
     "shell.execute_reply.started": "2023-10-28T07:31:16.431611Z"
    }
   },
   "source": [
    "## Sparse Tensors"
   ]
  },
  {
   "cell_type": "code",
   "execution_count": 53,
   "id": "5edc1bb6-a60a-45ef-b0df-976c3352d716",
   "metadata": {
    "execution": {
     "iopub.execute_input": "2023-10-28T07:28:11.829486Z",
     "iopub.status.busy": "2023-10-28T07:28:11.829095Z",
     "iopub.status.idle": "2023-10-28T07:28:11.834915Z",
     "shell.execute_reply": "2023-10-28T07:28:11.834523Z",
     "shell.execute_reply.started": "2023-10-28T07:28:11.829471Z"
    },
    "scrolled": true
   },
   "outputs": [
    {
     "data": {
      "text/plain": [
       "SparseTensor(indices=tf.Tensor(\n",
       "[[0 0]\n",
       " [0 1]\n",
       " [0 2]\n",
       " [0 3]\n",
       " [0 4]\n",
       " [1 0]\n",
       " [1 1]\n",
       " [1 2]\n",
       " [1 3]\n",
       " [1 4]\n",
       " [1 5]\n",
       " [2 0]\n",
       " [2 1]\n",
       " [2 2]\n",
       " [2 3]\n",
       " [3 0]\n",
       " [3 1]\n",
       " [3 2]\n",
       " [3 3]\n",
       " [3 4]\n",
       " [3 5]\n",
       " [3 6]\n",
       " [3 7]\n",
       " [4 0]\n",
       " [4 1]\n",
       " [4 2]\n",
       " [4 3]\n",
       " [5 0]\n",
       " [5 1]\n",
       " [5 2]\n",
       " [5 3]\n",
       " [5 4]\n",
       " [5 5]\n",
       " [6 0]\n",
       " [6 1]\n",
       " [6 2]\n",
       " [6 3]\n",
       " [6 4]\n",
       " [6 5]\n",
       " [6 6]\n",
       " [6 7]\n",
       " [6 8]], shape=(42, 2), dtype=int64), values=tf.Tensor(\n",
       "[   97   112   112   108   101    98   225   110    97   110    97   181\n",
       "   225   223   240  1580  1608  1606    32  1587  1610  1606  1575 32422\n",
       " 32752 22622 32435 12472 12519 12531 12539 12471 12490  1044  1078  1086\n",
       "  1085    32  1057  1080  1085  1072], shape=(42,), dtype=int32), dense_shape=tf.Tensor([7 9], shape=(2,), dtype=int64))"
      ]
     },
     "execution_count": 53,
     "metadata": {},
     "output_type": "execute_result"
    }
   ],
   "source": [
    "sp = r.to_sparse()"
   ]
  },
  {
   "cell_type": "code",
   "execution_count": 132,
   "id": "8b9e4ae9-f929-45d9-9cc1-32be9051ae86",
   "metadata": {
    "execution": {
     "iopub.execute_input": "2023-10-28T09:07:43.074868Z",
     "iopub.status.busy": "2023-10-28T09:07:43.074376Z",
     "iopub.status.idle": "2023-10-28T09:07:43.087097Z",
     "shell.execute_reply": "2023-10-28T09:07:43.086129Z",
     "shell.execute_reply.started": "2023-10-28T09:07:43.074831Z"
    }
   },
   "outputs": [
    {
     "data": {
      "text/plain": [
       "SparseTensor(indices=tf.Tensor(\n",
       "[[0 1]\n",
       " [1 0]\n",
       " [2 0]], shape=(3, 2), dtype=int64), values=tf.Tensor([1 2 3], shape=(3,), dtype=int32), dense_shape=tf.Tensor([3 2], shape=(2,), dtype=int64))"
      ]
     },
     "execution_count": 132,
     "metadata": {},
     "output_type": "execute_result"
    }
   ],
   "source": [
    "sp2 = tf.SparseTensor(\n",
    "    indices=([0, 1], [1, 0], [2, 0]), values=[1, 2, 3], dense_shape=[3, 2]\n",
    ")\n",
    "sp2"
   ]
  },
  {
   "cell_type": "code",
   "execution_count": 130,
   "id": "28db7ae4-6de3-4b5f-8062-85bdda37a759",
   "metadata": {
    "execution": {
     "iopub.execute_input": "2023-10-28T09:07:22.352186Z",
     "iopub.status.busy": "2023-10-28T09:07:22.351709Z",
     "iopub.status.idle": "2023-10-28T09:07:22.358879Z",
     "shell.execute_reply": "2023-10-28T09:07:22.358434Z",
     "shell.execute_reply.started": "2023-10-28T09:07:22.352148Z"
    }
   },
   "outputs": [
    {
     "data": {
      "text/plain": [
       "<tf.Tensor: shape=(3, 2), dtype=int32, numpy=\n",
       "array([[0, 1],\n",
       "       [2, 0],\n",
       "       [3, 0]], dtype=int32)>"
      ]
     },
     "execution_count": 130,
     "metadata": {},
     "output_type": "execute_result"
    }
   ],
   "source": [
    "tf.sparse.to_dense(sp)"
   ]
  },
  {
   "cell_type": "code",
   "execution_count": 133,
   "id": "00f2c15f-18de-4116-ad1d-d60847b9be17",
   "metadata": {
    "execution": {
     "iopub.execute_input": "2023-10-28T09:10:05.681863Z",
     "iopub.status.busy": "2023-10-28T09:10:05.681552Z",
     "iopub.status.idle": "2023-10-28T09:10:05.691419Z",
     "shell.execute_reply": "2023-10-28T09:10:05.691188Z",
     "shell.execute_reply.started": "2023-10-28T09:10:05.681847Z"
    }
   },
   "outputs": [
    {
     "data": {
      "text/plain": [
       "SparseTensor(indices=tf.Tensor(\n",
       "[[1 1]\n",
       " [0 1]\n",
       " [2 0]], shape=(3, 2), dtype=int64), values=tf.Tensor([1 2 3], shape=(3,), dtype=int32), dense_shape=tf.Tensor([3 2], shape=(2,), dtype=int64))"
      ]
     },
     "execution_count": 133,
     "metadata": {},
     "output_type": "execute_result"
    }
   ],
   "source": [
    "sp3 = tf.SparseTensor(\n",
    "    indices=([1, 1], [0, 1], [2, 0]), values=[1, 2, 3], dense_shape=[3, 2]\n",
    ")\n",
    "sp3"
   ]
  },
  {
   "cell_type": "code",
   "execution_count": 138,
   "id": "424a223f-0186-4184-8a3f-5341ff4a7992",
   "metadata": {
    "execution": {
     "iopub.execute_input": "2023-10-28T09:12:51.597853Z",
     "iopub.status.busy": "2023-10-28T09:12:51.597711Z",
     "iopub.status.idle": "2023-10-28T09:12:51.607556Z",
     "shell.execute_reply": "2023-10-28T09:12:51.607261Z",
     "shell.execute_reply.started": "2023-10-28T09:12:51.597843Z"
    }
   },
   "outputs": [
    {
     "data": {
      "text/plain": [
       "<tf.Tensor: shape=(3, 2), dtype=int32, numpy=\n",
       "array([[0, 2],\n",
       "       [0, 1],\n",
       "       [3, 0]], dtype=int32)>"
      ]
     },
     "execution_count": 138,
     "metadata": {},
     "output_type": "execute_result"
    }
   ],
   "source": [
    "tf.sparse.to_dense(tf.sparse.reorder(sp3))"
   ]
  },
  {
   "cell_type": "markdown",
   "id": "73b42a75-0901-4544-bcf1-b5e6176224a8",
   "metadata": {},
   "source": [
    "## TensorArray"
   ]
  },
  {
   "cell_type": "code",
   "execution_count": 140,
   "id": "8fa29c78-0415-47fe-a68b-8bfcc3d822ca",
   "metadata": {
    "execution": {
     "iopub.execute_input": "2023-10-28T09:13:36.710232Z",
     "iopub.status.busy": "2023-10-28T09:13:36.709300Z",
     "iopub.status.idle": "2023-10-28T09:13:36.714899Z",
     "shell.execute_reply": "2023-10-28T09:13:36.714154Z",
     "shell.execute_reply.started": "2023-10-28T09:13:36.710175Z"
    }
   },
   "outputs": [],
   "source": [
    "ta = tf.TensorArray(dtype=tf.float32, size=2)"
   ]
  },
  {
   "cell_type": "code",
   "execution_count": 158,
   "id": "b656d0ec-3abc-4c85-921f-d2b22b5ee096",
   "metadata": {
    "execution": {
     "iopub.execute_input": "2023-10-28T09:19:33.491279Z",
     "iopub.status.busy": "2023-10-28T09:19:33.491102Z",
     "iopub.status.idle": "2023-10-28T09:19:33.494048Z",
     "shell.execute_reply": "2023-10-28T09:19:33.493773Z",
     "shell.execute_reply.started": "2023-10-28T09:19:33.491270Z"
    },
    "scrolled": true
   },
   "outputs": [
    {
     "data": {
      "text/plain": [
       "\u001b[0;31mInit signature:\u001b[0m\n",
       "\u001b[0mtf\u001b[0m\u001b[0;34m.\u001b[0m\u001b[0mTensorArray\u001b[0m\u001b[0;34m(\u001b[0m\u001b[0;34m\u001b[0m\n",
       "\u001b[0;34m\u001b[0m    \u001b[0mdtype\u001b[0m\u001b[0;34m,\u001b[0m\u001b[0;34m\u001b[0m\n",
       "\u001b[0;34m\u001b[0m    \u001b[0msize\u001b[0m\u001b[0;34m=\u001b[0m\u001b[0;32mNone\u001b[0m\u001b[0;34m,\u001b[0m\u001b[0;34m\u001b[0m\n",
       "\u001b[0;34m\u001b[0m    \u001b[0mdynamic_size\u001b[0m\u001b[0;34m=\u001b[0m\u001b[0;32mNone\u001b[0m\u001b[0;34m,\u001b[0m\u001b[0;34m\u001b[0m\n",
       "\u001b[0;34m\u001b[0m    \u001b[0mclear_after_read\u001b[0m\u001b[0;34m=\u001b[0m\u001b[0;32mNone\u001b[0m\u001b[0;34m,\u001b[0m\u001b[0;34m\u001b[0m\n",
       "\u001b[0;34m\u001b[0m    \u001b[0mtensor_array_name\u001b[0m\u001b[0;34m=\u001b[0m\u001b[0;32mNone\u001b[0m\u001b[0;34m,\u001b[0m\u001b[0;34m\u001b[0m\n",
       "\u001b[0;34m\u001b[0m    \u001b[0mhandle\u001b[0m\u001b[0;34m=\u001b[0m\u001b[0;32mNone\u001b[0m\u001b[0;34m,\u001b[0m\u001b[0;34m\u001b[0m\n",
       "\u001b[0;34m\u001b[0m    \u001b[0mflow\u001b[0m\u001b[0;34m=\u001b[0m\u001b[0;32mNone\u001b[0m\u001b[0;34m,\u001b[0m\u001b[0;34m\u001b[0m\n",
       "\u001b[0;34m\u001b[0m    \u001b[0minfer_shape\u001b[0m\u001b[0;34m=\u001b[0m\u001b[0;32mTrue\u001b[0m\u001b[0;34m,\u001b[0m\u001b[0;34m\u001b[0m\n",
       "\u001b[0;34m\u001b[0m    \u001b[0melement_shape\u001b[0m\u001b[0;34m=\u001b[0m\u001b[0;32mNone\u001b[0m\u001b[0;34m,\u001b[0m\u001b[0;34m\u001b[0m\n",
       "\u001b[0;34m\u001b[0m    \u001b[0mcolocate_with_first_write_call\u001b[0m\u001b[0;34m=\u001b[0m\u001b[0;32mTrue\u001b[0m\u001b[0;34m,\u001b[0m\u001b[0;34m\u001b[0m\n",
       "\u001b[0;34m\u001b[0m    \u001b[0mname\u001b[0m\u001b[0;34m=\u001b[0m\u001b[0;32mNone\u001b[0m\u001b[0;34m,\u001b[0m\u001b[0;34m\u001b[0m\n",
       "\u001b[0;34m\u001b[0m\u001b[0;34m)\u001b[0m\u001b[0;34m\u001b[0m\u001b[0;34m\u001b[0m\u001b[0m\n",
       "\u001b[0;31mDocstring:\u001b[0m     \n",
       "Class wrapping dynamic-sized, per-time-step, Tensor arrays.\n",
       "\n",
       "This class is meant to be used with dynamic iteration primitives such as\n",
       "`while_loop` and `map_fn`.  It supports gradient back-propagation via special\n",
       "\"flow\" control flow dependencies.\n",
       "\n",
       "Note that although the array can be read multiple times and positions can be\n",
       "overwritten, behavior may be undefined when storing multiple references to\n",
       "the same array and clear_after_read is False. In particular, avoid using\n",
       "methods like concat() to convert an intermediate TensorArray to a Tensor,\n",
       "then further modifying the TensorArray, particularly if you need to backprop\n",
       "through it later.\n",
       "\n",
       "Example 1: Plain reading and writing.\n",
       "\n",
       ">>> ta = tf.TensorArray(tf.float32, size=0, dynamic_size=True, clear_after_read=False)\n",
       ">>> ta = ta.write(0, 10)\n",
       ">>> ta = ta.write(1, 20)\n",
       ">>> ta = ta.write(2, 30)\n",
       ">>>\n",
       ">>> ta.read(0)\n",
       "<tf.Tensor: shape=(), dtype=float32, numpy=10.0>\n",
       ">>> ta.read(1)\n",
       "<tf.Tensor: shape=(), dtype=float32, numpy=20.0>\n",
       ">>> ta.read(2)\n",
       "<tf.Tensor: shape=(), dtype=float32, numpy=30.0>\n",
       ">>> ta.stack()\n",
       "<tf.Tensor: shape=(3,), dtype=float32, numpy=array([10., 20., 30.],\n",
       "dtype=float32)>\n",
       "\n",
       "Example 2: Fibonacci sequence algorithm that writes in a loop then returns.\n",
       "\n",
       ">>> @tf.function\n",
       "... def fibonacci(n):\n",
       "...   ta = tf.TensorArray(tf.float32, size=0, dynamic_size=True)\n",
       "...   ta = ta.unstack([0., 1.])\n",
       "...\n",
       "...   for i in range(2, n):\n",
       "...     ta = ta.write(i, ta.read(i - 1) + ta.read(i - 2))\n",
       "...\n",
       "...   return ta.stack()\n",
       ">>>\n",
       ">>> fibonacci(7)\n",
       "<tf.Tensor: shape=(7,), dtype=float32,\n",
       "numpy=array([0., 1., 1., 2., 3., 5., 8.], dtype=float32)>\n",
       "\n",
       "Example 3: A simple loop interacting with a `tf.Variable`.\n",
       "\n",
       ">>> v = tf.Variable(1)\n",
       ">>> @tf.function\n",
       "... def f(x):\n",
       "...   ta = tf.TensorArray(tf.int32, size=0, dynamic_size=True)\n",
       "...   for i in tf.range(x):\n",
       "...     v.assign_add(i)\n",
       "...     ta = ta.write(i, v)\n",
       "...   return ta.stack()\n",
       ">>> f(5)\n",
       "<tf.Tensor: shape=(5,), dtype=int32, numpy=array([ 1,  2,  4,  7, 11],\n",
       "dtype=int32)>\n",
       "\u001b[0;31mInit docstring:\u001b[0m\n",
       "Construct a new TensorArray or wrap an existing TensorArray handle.\n",
       "\n",
       "A note about the parameter `name`:\n",
       "\n",
       "The name of the `TensorArray` (even if passed in) is uniquified: each time\n",
       "a new `TensorArray` is created at runtime it is assigned its own name for\n",
       "the duration of the run.  This avoids name collisions if a `TensorArray`\n",
       "is created within a `while_loop`.\n",
       "\n",
       "Args:\n",
       "  dtype: (required) data type of the TensorArray.\n",
       "  size: (optional) int32 scalar `Tensor`: the size of the TensorArray.\n",
       "    Required if handle is not provided.\n",
       "  dynamic_size: (optional) Python bool: If true, writes to the TensorArray\n",
       "    can grow the TensorArray past its initial size.  Default: False.\n",
       "  clear_after_read: Boolean (optional, default: True).  If True, clear\n",
       "    TensorArray values after reading them.  This disables read-many\n",
       "    semantics, but allows early release of memory.\n",
       "  tensor_array_name: (optional) Python string: the name of the TensorArray.\n",
       "    This is used when creating the TensorArray handle.  If this value is\n",
       "    set, handle should be None.\n",
       "  handle: (optional) A `Tensor` handle to an existing TensorArray.  If this\n",
       "    is set, tensor_array_name should be None. Only supported in graph mode.\n",
       "  flow: (optional) A float `Tensor` scalar coming from an existing\n",
       "    `TensorArray.flow`. Only supported in graph mode.\n",
       "  infer_shape: (optional, default: True) If True, shape inference is\n",
       "    enabled.  In this case, all elements must have the same shape.\n",
       "  element_shape: (optional, default: None) A `TensorShape` object specifying\n",
       "    the shape constraints of each of the elements of the TensorArray. Need\n",
       "    not be fully defined.\n",
       "  colocate_with_first_write_call: If `True`, the TensorArray will be\n",
       "    colocated on the same device as the Tensor used on its first write\n",
       "    (write operations include `write`, `unstack`, and `split`).  If `False`,\n",
       "    the TensorArray will be placed on the device determined by the device\n",
       "    context available during its initialization.\n",
       "  name: A name for the operation (optional).\n",
       "\n",
       "Raises:\n",
       "  ValueError: if both handle and tensor_array_name are provided.\n",
       "  TypeError: if handle is provided but is not a Tensor.\n",
       "\u001b[0;31mFile:\u001b[0m           ~/Coding_Playground/Machine_Learning/Hands_on_Machine_Learning/.micromamba/envs/homl/lib/python3.10/site-packages/tensorflow/python/ops/tensor_array_ops.py\n",
       "\u001b[0;31mType:\u001b[0m           type\n",
       "\u001b[0;31mSubclasses:\u001b[0m     "
      ]
     },
     "metadata": {},
     "output_type": "display_data"
    }
   ],
   "source": [
    "tf.TensorArray?"
   ]
  },
  {
   "cell_type": "code",
   "execution_count": 157,
   "id": "498ac13c-9c34-4b31-85f8-85f4cec9e2fe",
   "metadata": {
    "execution": {
     "iopub.execute_input": "2023-10-28T09:18:38.947410Z",
     "iopub.status.busy": "2023-10-28T09:18:38.947238Z",
     "iopub.status.idle": "2023-10-28T09:18:38.980865Z",
     "shell.execute_reply": "2023-10-28T09:18:38.980472Z",
     "shell.execute_reply.started": "2023-10-28T09:18:38.947400Z"
    },
    "scrolled": true
   },
   "outputs": [
    {
     "ename": "OutOfRangeError",
     "evalue": "Tried to write to index 2 but array is not resizeable and size is: 2 ",
     "output_type": "error",
     "traceback": [
      "\u001b[0;31m---------------------------------------------------------------------------\u001b[0m",
      "\u001b[0;31mOutOfRangeError\u001b[0m                           Traceback (most recent call last)",
      "Cell \u001b[0;32mIn[157], line 3\u001b[0m\n\u001b[1;32m      1\u001b[0m ta \u001b[38;5;241m=\u001b[39m ta\u001b[38;5;241m.\u001b[39mwrite(\u001b[38;5;241m0\u001b[39m, \u001b[38;5;241m11\u001b[39m)\n\u001b[1;32m      2\u001b[0m ta \u001b[38;5;241m=\u001b[39m ta\u001b[38;5;241m.\u001b[39mwrite(\u001b[38;5;241m1\u001b[39m, \u001b[38;5;241m12\u001b[39m)\n\u001b[0;32m----> 3\u001b[0m ta \u001b[38;5;241m=\u001b[39m \u001b[43mta\u001b[49m\u001b[38;5;241;43m.\u001b[39;49m\u001b[43mwrite\u001b[49m\u001b[43m(\u001b[49m\u001b[38;5;241;43m2\u001b[39;49m\u001b[43m,\u001b[49m\u001b[43m \u001b[49m\u001b[38;5;241;43m13\u001b[39;49m\u001b[43m)\u001b[49m\n\u001b[1;32m      4\u001b[0m ta\u001b[38;5;241m.\u001b[39mread(\u001b[38;5;241m1\u001b[39m)\n",
      "File \u001b[0;32m~/Coding_Playground/Machine_Learning/Hands_on_Machine_Learning/.micromamba/envs/homl/lib/python3.10/site-packages/tensorflow/python/util/tf_should_use.py:288\u001b[0m, in \u001b[0;36mshould_use_result.<locals>.decorated.<locals>.wrapped\u001b[0;34m(*args, **kwargs)\u001b[0m\n\u001b[1;32m    287\u001b[0m \u001b[38;5;28;01mdef\u001b[39;00m \u001b[38;5;21mwrapped\u001b[39m(\u001b[38;5;241m*\u001b[39margs, \u001b[38;5;241m*\u001b[39m\u001b[38;5;241m*\u001b[39mkwargs):\n\u001b[0;32m--> 288\u001b[0m   \u001b[38;5;28;01mreturn\u001b[39;00m _add_should_use_warning(\u001b[43mfn\u001b[49m\u001b[43m(\u001b[49m\u001b[38;5;241;43m*\u001b[39;49m\u001b[43margs\u001b[49m\u001b[43m,\u001b[49m\u001b[43m \u001b[49m\u001b[38;5;241;43m*\u001b[39;49m\u001b[38;5;241;43m*\u001b[39;49m\u001b[43mkwargs\u001b[49m\u001b[43m)\u001b[49m,\n\u001b[1;32m    289\u001b[0m                                  warn_in_eager\u001b[38;5;241m=\u001b[39mwarn_in_eager,\n\u001b[1;32m    290\u001b[0m                                  error_in_function\u001b[38;5;241m=\u001b[39merror_in_function)\n",
      "File \u001b[0;32m~/Coding_Playground/Machine_Learning/Hands_on_Machine_Learning/.micromamba/envs/homl/lib/python3.10/site-packages/tensorflow/python/ops/tensor_array_ops.py:1188\u001b[0m, in \u001b[0;36mTensorArray.write\u001b[0;34m(self, index, value, name)\u001b[0m\n\u001b[1;32m   1172\u001b[0m \u001b[38;5;129m@tf_should_use\u001b[39m\u001b[38;5;241m.\u001b[39mshould_use_result(warn_in_eager\u001b[38;5;241m=\u001b[39m\u001b[38;5;28;01mTrue\u001b[39;00m)\n\u001b[1;32m   1173\u001b[0m \u001b[38;5;28;01mdef\u001b[39;00m \u001b[38;5;21mwrite\u001b[39m(\u001b[38;5;28mself\u001b[39m, index, value, name\u001b[38;5;241m=\u001b[39m\u001b[38;5;28;01mNone\u001b[39;00m):\n\u001b[1;32m   1174\u001b[0m \u001b[38;5;250m  \u001b[39m\u001b[38;5;124;03m\"\"\"Write `value` into index `index` of the TensorArray.\u001b[39;00m\n\u001b[1;32m   1175\u001b[0m \n\u001b[1;32m   1176\u001b[0m \u001b[38;5;124;03m  Args:\u001b[39;00m\n\u001b[0;32m   (...)\u001b[0m\n\u001b[1;32m   1186\u001b[0m \u001b[38;5;124;03m    ValueError: if there are more writers than specified.\u001b[39;00m\n\u001b[1;32m   1187\u001b[0m \u001b[38;5;124;03m  \"\"\"\u001b[39;00m\n\u001b[0;32m-> 1188\u001b[0m   \u001b[38;5;28;01mreturn\u001b[39;00m \u001b[38;5;28;43mself\u001b[39;49m\u001b[38;5;241;43m.\u001b[39;49m\u001b[43m_implementation\u001b[49m\u001b[38;5;241;43m.\u001b[39;49m\u001b[43mwrite\u001b[49m\u001b[43m(\u001b[49m\u001b[43mindex\u001b[49m\u001b[43m,\u001b[49m\u001b[43m \u001b[49m\u001b[43mvalue\u001b[49m\u001b[43m,\u001b[49m\u001b[43m \u001b[49m\u001b[43mname\u001b[49m\u001b[38;5;241;43m=\u001b[39;49m\u001b[43mname\u001b[49m\u001b[43m)\u001b[49m\n",
      "File \u001b[0;32m~/Coding_Playground/Machine_Learning/Hands_on_Machine_Learning/.micromamba/envs/homl/lib/python3.10/site-packages/tensorflow/python/ops/tensor_array_ops.py:858\u001b[0m, in \u001b[0;36m_EagerTensorArray.write\u001b[0;34m(***failed resolving arguments***)\u001b[0m\n\u001b[1;32m    856\u001b[0m \u001b[38;5;250m\u001b[39m\u001b[38;5;124;03m\"\"\"See TensorArray.\"\"\"\u001b[39;00m\n\u001b[1;32m    857\u001b[0m \u001b[38;5;28;01mdel\u001b[39;00m name  \u001b[38;5;66;03m# not meaningful when executing eagerly.\u001b[39;00m\n\u001b[0;32m--> 858\u001b[0m \u001b[38;5;28;43mself\u001b[39;49m\u001b[38;5;241;43m.\u001b[39;49m\u001b[43m_write\u001b[49m\u001b[43m(\u001b[49m\u001b[43mindex\u001b[49m\u001b[43m,\u001b[49m\u001b[43m \u001b[49m\u001b[43mvalue\u001b[49m\u001b[43m)\u001b[49m\n\u001b[1;32m    859\u001b[0m \u001b[38;5;28;01mreturn\u001b[39;00m \u001b[38;5;28mself\u001b[39m\u001b[38;5;241m.\u001b[39mparent()\n",
      "File \u001b[0;32m~/Coding_Playground/Machine_Learning/Hands_on_Machine_Learning/.micromamba/envs/homl/lib/python3.10/site-packages/tensorflow/python/ops/tensor_array_ops.py:829\u001b[0m, in \u001b[0;36m_EagerTensorArray._write\u001b[0;34m(self, index, value)\u001b[0m\n\u001b[1;32m    827\u001b[0m \u001b[38;5;28;01mif\u001b[39;00m index \u001b[38;5;241m>\u001b[39m\u001b[38;5;241m=\u001b[39m size:\n\u001b[1;32m    828\u001b[0m   \u001b[38;5;28;01mif\u001b[39;00m \u001b[38;5;129;01mnot\u001b[39;00m \u001b[38;5;28mself\u001b[39m\u001b[38;5;241m.\u001b[39m_dynamic_size:\n\u001b[0;32m--> 829\u001b[0m     \u001b[38;5;28;01mraise\u001b[39;00m errors_impl\u001b[38;5;241m.\u001b[39mOutOfRangeError(\n\u001b[1;32m    830\u001b[0m         \u001b[38;5;28;01mNone\u001b[39;00m, \u001b[38;5;28;01mNone\u001b[39;00m,\n\u001b[1;32m    831\u001b[0m         \u001b[38;5;124m\"\u001b[39m\u001b[38;5;124mTried to write to index \u001b[39m\u001b[38;5;132;01m%d\u001b[39;00m\u001b[38;5;124m but array is not resizeable and size \u001b[39m\u001b[38;5;124m\"\u001b[39m\n\u001b[1;32m    832\u001b[0m         \u001b[38;5;124m\"\u001b[39m\u001b[38;5;124mis: \u001b[39m\u001b[38;5;132;01m%d\u001b[39;00m\u001b[38;5;124m \u001b[39m\u001b[38;5;124m\"\u001b[39m \u001b[38;5;241m%\u001b[39m (index, size))\n\u001b[1;32m    833\u001b[0m   \u001b[38;5;28mself\u001b[39m\u001b[38;5;241m.\u001b[39m_tensor_array\u001b[38;5;241m.\u001b[39mextend(\u001b[38;5;28;01mNone\u001b[39;00m \u001b[38;5;28;01mfor\u001b[39;00m _ \u001b[38;5;129;01min\u001b[39;00m \u001b[38;5;28mrange\u001b[39m(index \u001b[38;5;241m-\u001b[39m size \u001b[38;5;241m+\u001b[39m \u001b[38;5;241m1\u001b[39m))\n\u001b[1;32m    835\u001b[0m \u001b[38;5;28;01mif\u001b[39;00m \u001b[38;5;129;01mnot\u001b[39;00m \u001b[38;5;28misinstance\u001b[39m(value, ops\u001b[38;5;241m.\u001b[39mEagerTensor):\n\u001b[1;32m    836\u001b[0m   \u001b[38;5;66;03m# TODO(b/129870929): Fix after all callers provide proper init dtype.\u001b[39;00m\n",
      "\u001b[0;31mOutOfRangeError\u001b[0m: Tried to write to index 2 but array is not resizeable and size is: 2 "
     ]
    }
   ],
   "source": [
    "ta = ta.write(0, 11)\n",
    "ta = ta.write(1, 12)\n",
    "ta = ta.write(2, 13)\n",
    "ta.read(1)"
   ]
  },
  {
   "cell_type": "code",
   "execution_count": 147,
   "id": "f171479b-34f9-4031-8dc2-fc4dbe3c91f7",
   "metadata": {
    "execution": {
     "iopub.execute_input": "2023-10-28T09:14:59.802538Z",
     "iopub.status.busy": "2023-10-28T09:14:59.802393Z",
     "iopub.status.idle": "2023-10-28T09:14:59.805078Z",
     "shell.execute_reply": "2023-10-28T09:14:59.804717Z",
     "shell.execute_reply.started": "2023-10-28T09:14:59.802529Z"
    }
   },
   "outputs": [
    {
     "data": {
      "text/plain": [
       "\u001b[0;31mSignature:\u001b[0m \u001b[0mta\u001b[0m\u001b[0;34m.\u001b[0m\u001b[0mwrite\u001b[0m\u001b[0;34m(\u001b[0m\u001b[0mindex\u001b[0m\u001b[0;34m,\u001b[0m \u001b[0mvalue\u001b[0m\u001b[0;34m,\u001b[0m \u001b[0mname\u001b[0m\u001b[0;34m=\u001b[0m\u001b[0;32mNone\u001b[0m\u001b[0;34m)\u001b[0m\u001b[0;34m\u001b[0m\u001b[0;34m\u001b[0m\u001b[0m\n",
       "\u001b[0;31mDocstring:\u001b[0m\n",
       "Write `value` into index `index` of the TensorArray.\n",
       "\n",
       "Args:\n",
       "  index: 0-D.  int32 scalar with the index to write to.\n",
       "  value: N-D.  Tensor of type `dtype`.  The Tensor to write to this index.\n",
       "  name: A name for the operation (optional).\n",
       "\n",
       "Returns:\n",
       "  A new TensorArray object with flow that ensures the write occurs.\n",
       "  Use this object for all subsequent operations.\n",
       "\n",
       "Raises:\n",
       "  ValueError: if there are more writers than specified.\n",
       "\n",
       "\n",
       "Note: The output of this function should be used. If it is not, a warning will be logged or an error may be raised. To mark the output as used, call its .mark_used() method.\n",
       "\u001b[0;31mFile:\u001b[0m      ~/Coding_Playground/Machine_Learning/Hands_on_Machine_Learning/.micromamba/envs/homl/lib/python3.10/site-packages/tensorflow/python/ops/tensor_array_ops.py\n",
       "\u001b[0;31mType:\u001b[0m      method"
      ]
     },
     "metadata": {},
     "output_type": "display_data"
    }
   ],
   "source": [
    "ta.write?"
   ]
  },
  {
   "cell_type": "markdown",
   "id": "c55141cd-583c-4688-8587-965f21c93a3d",
   "metadata": {},
   "source": [
    "## `tf.function` and `tf.concrete_function`"
   ]
  },
  {
   "cell_type": "code",
   "execution_count": 77,
   "id": "d7621be0-1c4b-4e89-857f-c9b525c0edb1",
   "metadata": {
    "execution": {
     "iopub.execute_input": "2023-10-31T07:46:00.915371Z",
     "iopub.status.busy": "2023-10-31T07:46:00.914912Z",
     "iopub.status.idle": "2023-10-31T07:46:00.921602Z",
     "shell.execute_reply": "2023-10-31T07:46:00.920640Z",
     "shell.execute_reply.started": "2023-10-31T07:46:00.915337Z"
    }
   },
   "outputs": [],
   "source": [
    "import tensorflow as tf\n",
    "\n",
    "\n",
    "@tf.function(reduce_retracing=True)\n",
    "def cube(x):\n",
    "    print(\"Tracing...\")\n",
    "    print(f\"x = {x}\")\n",
    "    return x**3"
   ]
  },
  {
   "cell_type": "code",
   "execution_count": 78,
   "id": "877db880-6fce-48aa-94bd-30b9551096a4",
   "metadata": {
    "execution": {
     "iopub.execute_input": "2023-10-31T07:46:03.029668Z",
     "iopub.status.busy": "2023-10-31T07:46:03.029226Z",
     "iopub.status.idle": "2023-10-31T07:46:03.036438Z",
     "shell.execute_reply": "2023-10-31T07:46:03.035748Z",
     "shell.execute_reply.started": "2023-10-31T07:46:03.029636Z"
    }
   },
   "outputs": [
    {
     "data": {
      "text/plain": [
       "(<tensorflow.python.eager.polymorphic_function.polymorphic_function.Function at 0x7ffd94639db0>,\n",
       " <function __main__.cube(x)>)"
      ]
     },
     "execution_count": 78,
     "metadata": {},
     "output_type": "execute_result"
    }
   ],
   "source": [
    "cube, cube.python_function"
   ]
  },
  {
   "cell_type": "code",
   "execution_count": 79,
   "id": "40ba9e89-a02f-426a-b450-eb35f6d1f333",
   "metadata": {
    "execution": {
     "iopub.execute_input": "2023-10-31T07:46:04.677732Z",
     "iopub.status.busy": "2023-10-31T07:46:04.677272Z",
     "iopub.status.idle": "2023-10-31T07:46:04.699055Z",
     "shell.execute_reply": "2023-10-31T07:46:04.698828Z",
     "shell.execute_reply.started": "2023-10-31T07:46:04.677698Z"
    }
   },
   "outputs": [
    {
     "name": "stdout",
     "output_type": "stream",
     "text": [
      "Tracing...\n",
      "x = 10\n"
     ]
    },
    {
     "data": {
      "text/plain": [
       "<tf.Tensor: shape=(), dtype=int32, numpy=1000>"
      ]
     },
     "execution_count": 79,
     "metadata": {},
     "output_type": "execute_result"
    }
   ],
   "source": [
    "cube(10)"
   ]
  },
  {
   "cell_type": "code",
   "execution_count": 80,
   "id": "777b44f2-6dcc-41f4-ab91-3d2521d57a19",
   "metadata": {
    "execution": {
     "iopub.execute_input": "2023-10-31T07:46:17.531755Z",
     "iopub.status.busy": "2023-10-31T07:46:17.530629Z",
     "iopub.status.idle": "2023-10-31T07:46:17.540549Z",
     "shell.execute_reply": "2023-10-31T07:46:17.540265Z",
     "shell.execute_reply.started": "2023-10-31T07:46:17.531704Z"
    }
   },
   "outputs": [
    {
     "name": "stdout",
     "output_type": "stream",
     "text": [
      "Tracing...\n",
      "x = Tensor(\"x:0\", shape=(), dtype=int32)\n"
     ]
    },
    {
     "data": {
      "text/plain": [
       "<ConcreteFunction cube(x) at 0x7FFDDC32D840>"
      ]
     },
     "execution_count": 80,
     "metadata": {},
     "output_type": "execute_result"
    }
   ],
   "source": [
    "cube.get_concrete_function(tf.constant(10))"
   ]
  },
  {
   "cell_type": "code",
   "execution_count": 15,
   "id": "1d7a3f90-e9b2-40cb-a134-174b3a49f527",
   "metadata": {
    "execution": {
     "iopub.execute_input": "2023-10-30T16:50:14.018212Z",
     "iopub.status.busy": "2023-10-30T16:50:14.017741Z",
     "iopub.status.idle": "2023-10-30T16:50:14.026170Z",
     "shell.execute_reply": "2023-10-30T16:50:14.025371Z",
     "shell.execute_reply.started": "2023-10-30T16:50:14.018179Z"
    }
   },
   "outputs": [
    {
     "data": {
      "text/plain": [
       "False"
      ]
     },
     "execution_count": 15,
     "metadata": {},
     "output_type": "execute_result"
    }
   ],
   "source": [
    "cube.get_concrete_function(10) is cube.get_concrete_function(11)"
   ]
  },
  {
   "cell_type": "code",
   "execution_count": 16,
   "id": "014a3b35-f913-4dbb-b5d3-0670bffbe1d3",
   "metadata": {
    "execution": {
     "iopub.execute_input": "2023-10-30T16:50:39.265235Z",
     "iopub.status.busy": "2023-10-30T16:50:39.264606Z",
     "iopub.status.idle": "2023-10-30T16:50:39.281940Z",
     "shell.execute_reply": "2023-10-30T16:50:39.281716Z",
     "shell.execute_reply.started": "2023-10-30T16:50:39.265201Z"
    }
   },
   "outputs": [
    {
     "data": {
      "text/plain": [
       "True"
      ]
     },
     "execution_count": 16,
     "metadata": {},
     "output_type": "execute_result"
    }
   ],
   "source": [
    "cube.get_concrete_function(tf.constant(10)) is cube.get_concrete_function(\n",
    "    tf.constant(11)\n",
    ")"
   ]
  },
  {
   "cell_type": "code",
   "execution_count": 17,
   "id": "0286e0b9-0936-4979-816b-061d52fbe528",
   "metadata": {
    "execution": {
     "iopub.execute_input": "2023-10-30T16:51:14.914963Z",
     "iopub.status.busy": "2023-10-30T16:51:14.914516Z",
     "iopub.status.idle": "2023-10-30T16:51:14.932017Z",
     "shell.execute_reply": "2023-10-30T16:51:14.931703Z",
     "shell.execute_reply.started": "2023-10-30T16:51:14.914931Z"
    }
   },
   "outputs": [
    {
     "data": {
      "text/plain": [
       "False"
      ]
     },
     "execution_count": 17,
     "metadata": {},
     "output_type": "execute_result"
    }
   ],
   "source": [
    "cube.get_concrete_function(tf.constant(10)) is cube.get_concrete_function(\n",
    "    tf.constant(11, dtype=tf.float32)\n",
    ")"
   ]
  },
  {
   "cell_type": "code",
   "execution_count": 25,
   "id": "7962090c-9d02-4700-b503-042b5db03206",
   "metadata": {
    "execution": {
     "iopub.execute_input": "2023-10-30T16:55:27.920834Z",
     "iopub.status.busy": "2023-10-30T16:55:27.920307Z",
     "iopub.status.idle": "2023-10-30T16:55:27.927347Z",
     "shell.execute_reply": "2023-10-30T16:55:27.926529Z",
     "shell.execute_reply.started": "2023-10-30T16:55:27.920796Z"
    }
   },
   "outputs": [
    {
     "name": "stdout",
     "output_type": "stream",
     "text": [
      "Binding inputs to tf.function failed due to `Can not cast 11 to Literal(value=10)`. Received args: (11,) and kwargs: {} for signature: (x: Literal(value=10)) -> TensorSpec(shape=(), dtype=tf.int32, name=None).\n",
      "Fallback to flat signature also failed due to: cube() takes 0 positional arguments, got 1.\n"
     ]
    }
   ],
   "source": [
    "try:\n",
    "    cube.get_concrete_function(10)(11)\n",
    "except TypeError as err:\n",
    "    print(err)"
   ]
  },
  {
   "cell_type": "code",
   "execution_count": 34,
   "id": "c18d1ad3-b11c-4313-88d7-9a3663b0abca",
   "metadata": {
    "execution": {
     "iopub.execute_input": "2023-10-30T16:59:39.336417Z",
     "iopub.status.busy": "2023-10-30T16:59:39.335961Z",
     "iopub.status.idle": "2023-10-30T16:59:39.341144Z",
     "shell.execute_reply": "2023-10-30T16:59:39.340798Z",
     "shell.execute_reply.started": "2023-10-30T16:59:39.336386Z"
    }
   },
   "outputs": [
    {
     "name": "stdout",
     "output_type": "stream",
     "text": [
      "cannot compute __inference_cube_31 as input #0(zero-based) was expected to be a float tensor but is a int32 tensor [Op:__inference_cube_31]\n"
     ]
    }
   ],
   "source": [
    "try:\n",
    "    cube.get_concrete_function(tf.constant(10.0))(tf.constant(11, dtype=tf.int32))\n",
    "except tf.errors.InvalidArgumentError as err:\n",
    "    print(err)"
   ]
  },
  {
   "cell_type": "code",
   "execution_count": 43,
   "id": "d870d105-29af-480a-8b3a-9a2678350d9d",
   "metadata": {
    "execution": {
     "iopub.execute_input": "2023-10-30T17:03:30.362155Z",
     "iopub.status.busy": "2023-10-30T17:03:30.362014Z",
     "iopub.status.idle": "2023-10-30T17:03:30.365445Z",
     "shell.execute_reply": "2023-10-30T17:03:30.365231Z",
     "shell.execute_reply.started": "2023-10-30T17:03:30.362146Z"
    }
   },
   "outputs": [
    {
     "data": {
      "text/plain": [
       "<tf.Tensor: shape=(), dtype=float32, numpy=64.0>"
      ]
     },
     "execution_count": 43,
     "metadata": {},
     "output_type": "execute_result"
    }
   ],
   "source": [
    "cube.get_concrete_function(tf.constant(10.0))(4)"
   ]
  },
  {
   "cell_type": "code",
   "execution_count": 55,
   "id": "5c3227c5-715d-4dea-b5dd-5830041115fb",
   "metadata": {
    "execution": {
     "iopub.execute_input": "2023-10-31T06:06:11.956968Z",
     "iopub.status.busy": "2023-10-31T06:06:11.956569Z",
     "iopub.status.idle": "2023-10-31T06:06:11.970821Z",
     "shell.execute_reply": "2023-10-31T06:06:11.970527Z",
     "shell.execute_reply.started": "2023-10-31T06:06:11.956947Z"
    }
   },
   "outputs": [
    {
     "name": "stdout",
     "output_type": "stream",
     "text": [
      "Tracing...\n",
      "WARNING:tensorflow:6 out of the last 10 calls to <function cube at 0x7ffddc6948b0> triggered tf.function retracing. Tracing is expensive and the excessive number of tracings could be due to (1) creating @tf.function repeatedly in a loop, (2) passing tensors with different shapes, (3) passing Python objects instead of tensors. For (1), please define your @tf.function outside of the loop. For (2), @tf.function has reduce_retracing=True option that can avoid unnecessary retracing. For (3), please refer to https://www.tensorflow.org/guide/function#controlling_retracing and https://www.tensorflow.org/api_docs/python/tf/function for  more details.\n"
     ]
    },
    {
     "data": {
      "text/plain": [
       "<tf.Tensor: shape=(), dtype=float32, numpy=343.0>"
      ]
     },
     "execution_count": 55,
     "metadata": {},
     "output_type": "execute_result"
    }
   ],
   "source": [
    "cube(7.0)"
   ]
  },
  {
   "cell_type": "code",
   "execution_count": 56,
   "id": "a73d3b5c-cecc-41d2-8ff7-44b1748f0ec2",
   "metadata": {
    "execution": {
     "iopub.execute_input": "2023-10-31T06:06:14.654988Z",
     "iopub.status.busy": "2023-10-31T06:06:14.653726Z",
     "iopub.status.idle": "2023-10-31T06:06:14.662511Z",
     "shell.execute_reply": "2023-10-31T06:06:14.661852Z",
     "shell.execute_reply.started": "2023-10-31T06:06:14.654930Z"
    }
   },
   "outputs": [
    {
     "data": {
      "text/plain": [
       "<tf.Tensor: shape=(), dtype=float32, numpy=343.0>"
      ]
     },
     "execution_count": 56,
     "metadata": {},
     "output_type": "execute_result"
    }
   ],
   "source": [
    "cube(7)"
   ]
  },
  {
   "cell_type": "code",
   "execution_count": 57,
   "id": "1c8573ee-d7e9-4ded-8e3b-baf5af01965c",
   "metadata": {
    "execution": {
     "iopub.execute_input": "2023-10-31T06:06:24.545514Z",
     "iopub.status.busy": "2023-10-31T06:06:24.545062Z",
     "iopub.status.idle": "2023-10-31T06:06:24.555830Z",
     "shell.execute_reply": "2023-10-31T06:06:24.555557Z",
     "shell.execute_reply.started": "2023-10-31T06:06:24.545483Z"
    }
   },
   "outputs": [
    {
     "name": "stdout",
     "output_type": "stream",
     "text": [
      "Tracing...\n"
     ]
    },
    {
     "data": {
      "text/plain": [
       "<tf.Tensor: shape=(), dtype=float32, numpy=421.875>"
      ]
     },
     "execution_count": 57,
     "metadata": {},
     "output_type": "execute_result"
    }
   ],
   "source": [
    "cube(7.5)"
   ]
  },
  {
   "cell_type": "code",
   "execution_count": 58,
   "id": "64232fd2-474b-42c0-adc5-fdf7d171dbeb",
   "metadata": {
    "execution": {
     "iopub.execute_input": "2023-10-31T06:06:36.115811Z",
     "iopub.status.busy": "2023-10-31T06:06:36.115357Z",
     "iopub.status.idle": "2023-10-31T06:06:36.122632Z",
     "shell.execute_reply": "2023-10-31T06:06:36.122388Z",
     "shell.execute_reply.started": "2023-10-31T06:06:36.115785Z"
    }
   },
   "outputs": [
    {
     "name": "stdout",
     "output_type": "stream",
     "text": [
      "Tracing...\n"
     ]
    },
    {
     "data": {
      "text/plain": [
       "<tf.Tensor: shape=(), dtype=float32, numpy=342.99997>"
      ]
     },
     "execution_count": 58,
     "metadata": {},
     "output_type": "execute_result"
    }
   ],
   "source": [
    "cube(tf.constant(7.0))"
   ]
  },
  {
   "cell_type": "markdown",
   "id": "28300985-3eb4-43eb-8606-8bca36240aff",
   "metadata": {},
   "source": [
    "## Exploring Graphs"
   ]
  },
  {
   "cell_type": "code",
   "execution_count": 68,
   "id": "75f8340b-8352-460e-86ac-63fe29f5dd5c",
   "metadata": {
    "execution": {
     "iopub.execute_input": "2023-10-31T07:25:18.169816Z",
     "iopub.status.busy": "2023-10-31T07:25:18.168928Z",
     "iopub.status.idle": "2023-10-31T07:25:18.187898Z",
     "shell.execute_reply": "2023-10-31T07:25:18.187633Z",
     "shell.execute_reply.started": "2023-10-31T07:25:18.169746Z"
    }
   },
   "outputs": [
    {
     "name": "stdout",
     "output_type": "stream",
     "text": [
      "Tracing...\n"
     ]
    }
   ],
   "source": [
    "cf = cube.get_concrete_function(tf.constant([420, 69], dtype=tf.int32))"
   ]
  },
  {
   "cell_type": "code",
   "execution_count": 69,
   "id": "f7974ca1-5243-4bc0-a68e-bd5ae424efe6",
   "metadata": {
    "execution": {
     "iopub.execute_input": "2023-10-31T07:25:22.140746Z",
     "iopub.status.busy": "2023-10-31T07:25:22.139411Z",
     "iopub.status.idle": "2023-10-31T07:25:22.146634Z",
     "shell.execute_reply": "2023-10-31T07:25:22.145864Z",
     "shell.execute_reply.started": "2023-10-31T07:25:22.140696Z"
    }
   },
   "outputs": [
    {
     "data": {
      "text/plain": [
       "<tensorflow.python.framework.func_graph.FuncGraph at 0x7ffe381ff760>"
      ]
     },
     "execution_count": 69,
     "metadata": {},
     "output_type": "execute_result"
    }
   ],
   "source": [
    "cf.graph"
   ]
  },
  {
   "cell_type": "code",
   "execution_count": 70,
   "id": "4c825b97-ec22-4516-bcf2-4c477eb1549f",
   "metadata": {
    "execution": {
     "iopub.execute_input": "2023-10-31T07:25:28.086318Z",
     "iopub.status.busy": "2023-10-31T07:25:28.085297Z",
     "iopub.status.idle": "2023-10-31T07:25:28.092275Z",
     "shell.execute_reply": "2023-10-31T07:25:28.091442Z",
     "shell.execute_reply.started": "2023-10-31T07:25:28.086259Z"
    }
   },
   "outputs": [
    {
     "data": {
      "text/plain": [
       "[<tf.Operation 'x' type=Placeholder>,\n",
       " <tf.Operation 'pow/y' type=Const>,\n",
       " <tf.Operation 'pow' type=Pow>,\n",
       " <tf.Operation 'Identity' type=Identity>]"
      ]
     },
     "execution_count": 70,
     "metadata": {},
     "output_type": "execute_result"
    }
   ],
   "source": [
    "cf.graph.get_operations()"
   ]
  },
  {
   "cell_type": "code",
   "execution_count": 71,
   "id": "c75fbae8-ad29-4916-a45c-f52dde81470a",
   "metadata": {
    "execution": {
     "iopub.execute_input": "2023-10-31T07:25:32.000383Z",
     "iopub.status.busy": "2023-10-31T07:25:31.999745Z",
     "iopub.status.idle": "2023-10-31T07:25:32.006482Z",
     "shell.execute_reply": "2023-10-31T07:25:32.005963Z",
     "shell.execute_reply.started": "2023-10-31T07:25:32.000333Z"
    }
   },
   "outputs": [
    {
     "data": {
      "text/plain": [
       "<tf.Operation 'pow/y' type=Const>"
      ]
     },
     "execution_count": 71,
     "metadata": {},
     "output_type": "execute_result"
    }
   ],
   "source": [
    "cf.graph.get_operation_by_name(\"pow/y\")"
   ]
  },
  {
   "cell_type": "code",
   "execution_count": 72,
   "id": "a21ce4f1-25fc-480d-865a-6bade3fc9458",
   "metadata": {
    "execution": {
     "iopub.execute_input": "2023-10-31T07:25:34.573010Z",
     "iopub.status.busy": "2023-10-31T07:25:34.572878Z",
     "iopub.status.idle": "2023-10-31T07:25:34.575278Z",
     "shell.execute_reply": "2023-10-31T07:25:34.575040Z",
     "shell.execute_reply.started": "2023-10-31T07:25:34.573001Z"
    }
   },
   "outputs": [
    {
     "data": {
      "text/plain": [
       "<tf.Tensor 'pow:0' shape=(2,) dtype=int32>"
      ]
     },
     "execution_count": 72,
     "metadata": {},
     "output_type": "execute_result"
    }
   ],
   "source": [
    "cf.graph.get_tensor_by_name(\"pow:0\")"
   ]
  },
  {
   "cell_type": "code",
   "execution_count": 75,
   "id": "24bee36a-c464-40fd-8f3e-ef5796410457",
   "metadata": {
    "execution": {
     "iopub.execute_input": "2023-10-31T07:33:07.207710Z",
     "iopub.status.busy": "2023-10-31T07:33:07.207283Z",
     "iopub.status.idle": "2023-10-31T07:33:07.211934Z",
     "shell.execute_reply": "2023-10-31T07:33:07.211487Z",
     "shell.execute_reply.started": "2023-10-31T07:33:07.207687Z"
    }
   },
   "outputs": [
    {
     "data": {
      "text/plain": [
       "tensorflow.core.framework.function_pb2.FunctionDef"
      ]
     },
     "execution_count": 75,
     "metadata": {},
     "output_type": "execute_result"
    }
   ],
   "source": [
    "type(cf.function_def)"
   ]
  },
  {
   "cell_type": "code",
   "execution_count": 76,
   "id": "b2bd1582-3c3a-455c-b002-5a2e517bbe9d",
   "metadata": {
    "execution": {
     "iopub.execute_input": "2023-10-31T07:34:07.761265Z",
     "iopub.status.busy": "2023-10-31T07:34:07.761074Z",
     "iopub.status.idle": "2023-10-31T07:34:07.764037Z",
     "shell.execute_reply": "2023-10-31T07:34:07.763818Z",
     "shell.execute_reply.started": "2023-10-31T07:34:07.761252Z"
    },
    "scrolled": true
   },
   "outputs": [
    {
     "data": {
      "text/plain": [
       "signature {\n",
       "  name: \"__inference_cube_167\"\n",
       "  input_arg {\n",
       "    name: \"x\"\n",
       "    type: DT_INT32\n",
       "  }\n",
       "  output_arg {\n",
       "    name: \"identity\"\n",
       "    type: DT_INT32\n",
       "  }\n",
       "}\n",
       "node_def {\n",
       "  name: \"pow/y\"\n",
       "  op: \"Const\"\n",
       "  attr {\n",
       "    key: \"dtype\"\n",
       "    value {\n",
       "      type: DT_INT32\n",
       "    }\n",
       "  }\n",
       "  attr {\n",
       "    key: \"value\"\n",
       "    value {\n",
       "      tensor {\n",
       "        dtype: DT_INT32\n",
       "        tensor_shape {\n",
       "        }\n",
       "        int_val: 3\n",
       "      }\n",
       "    }\n",
       "  }\n",
       "}\n",
       "node_def {\n",
       "  name: \"pow\"\n",
       "  op: \"Pow\"\n",
       "  input: \"x\"\n",
       "  input: \"pow/y:output:0\"\n",
       "  attr {\n",
       "    key: \"T\"\n",
       "    value {\n",
       "      type: DT_INT32\n",
       "    }\n",
       "  }\n",
       "}\n",
       "node_def {\n",
       "  name: \"Identity\"\n",
       "  op: \"Identity\"\n",
       "  input: \"pow:z:0\"\n",
       "  attr {\n",
       "    key: \"T\"\n",
       "    value {\n",
       "      type: DT_INT32\n",
       "    }\n",
       "  }\n",
       "}\n",
       "ret {\n",
       "  key: \"identity\"\n",
       "  value: \"Identity:output:0\"\n",
       "}\n",
       "attr {\n",
       "  key: \"_construction_context\"\n",
       "  value {\n",
       "    s: \"kEagerRuntime\"\n",
       "  }\n",
       "}\n",
       "arg_attr {\n",
       "  key: 0\n",
       "  value {\n",
       "    attr {\n",
       "      key: \"_output_shapes\"\n",
       "      value {\n",
       "        list {\n",
       "          shape {\n",
       "            dim {\n",
       "              size: 2\n",
       "            }\n",
       "          }\n",
       "        }\n",
       "      }\n",
       "    }\n",
       "    attr {\n",
       "      key: \"_user_specified_name\"\n",
       "      value {\n",
       "        s: \"x\"\n",
       "      }\n",
       "    }\n",
       "  }\n",
       "}"
      ]
     },
     "execution_count": 76,
     "metadata": {},
     "output_type": "execute_result"
    }
   ],
   "source": [
    "cf.function_def"
   ]
  },
  {
   "cell_type": "markdown",
   "id": "0500649c-3a04-4116-899c-aea57a988114",
   "metadata": {},
   "source": [
    "## Tracing"
   ]
  },
  {
   "cell_type": "code",
   "execution_count": 85,
   "id": "fdd6cdf4-fb3e-4b36-b92f-4d49a2095501",
   "metadata": {
    "execution": {
     "iopub.execute_input": "2023-10-31T08:17:42.077183Z",
     "iopub.status.busy": "2023-10-31T08:17:42.076745Z",
     "iopub.status.idle": "2023-10-31T08:17:42.082401Z",
     "shell.execute_reply": "2023-10-31T08:17:42.081802Z",
     "shell.execute_reply.started": "2023-10-31T08:17:42.077152Z"
    }
   },
   "outputs": [],
   "source": [
    "@tf.function(input_signature=[tf.TensorSpec(shape=(None, 28, 28), dtype=tf.float32)])\n",
    "def batched_shrink(images):\n",
    "    return images[:, ::2, ::2]"
   ]
  },
  {
   "cell_type": "code",
   "execution_count": 86,
   "id": "5a19a725-1556-410d-bbe0-b410999a7b32",
   "metadata": {
    "execution": {
     "iopub.execute_input": "2023-10-31T08:17:58.513903Z",
     "iopub.status.busy": "2023-10-31T08:17:58.513437Z",
     "iopub.status.idle": "2023-10-31T08:17:58.537595Z",
     "shell.execute_reply": "2023-10-31T08:17:58.537368Z",
     "shell.execute_reply.started": "2023-10-31T08:17:58.513872Z"
    }
   },
   "outputs": [
    {
     "data": {
      "text/plain": [
       "True"
      ]
     },
     "execution_count": 86,
     "metadata": {},
     "output_type": "execute_result"
    }
   ],
   "source": [
    "batched_shrink.get_concrete_function(\n",
    "    tf.random.uniform(shape=(128, 28, 28))\n",
    ") is batched_shrink.get_concrete_function(tf.random.uniform(shape=(32, 28, 28)))"
   ]
  },
  {
   "cell_type": "code",
   "execution_count": 90,
   "id": "10aca6e7-44fc-4a41-94d6-c118a305fc5c",
   "metadata": {
    "execution": {
     "iopub.execute_input": "2023-10-31T08:20:10.314554Z",
     "iopub.status.busy": "2023-10-31T08:20:10.314212Z",
     "iopub.status.idle": "2023-10-31T08:20:10.327462Z",
     "shell.execute_reply": "2023-10-31T08:20:10.327215Z",
     "shell.execute_reply.started": "2023-10-31T08:20:10.314528Z"
    },
    "scrolled": true
   },
   "outputs": [
    {
     "name": "stdout",
     "output_type": "stream",
     "text": [
      "Binding inputs to tf.function failed due to `Can not cast TensorSpec(shape=(16, 2, 28), dtype=tf.float32, name=None) to TensorSpec(shape=(None, 28, 28), dtype=tf.float32, name=None)`. Received args: (<tf.Tensor: shape=(16, 2, 28), dtype=float32, numpy=\n",
      "array([[[8.40849757e-01, 9.02973413e-01, 2.14023352e-01, 2.86659956e-01,\n",
      "         3.09932113e-01, 8.37629557e-01, 7.69418836e-01, 1.17953062e-01,\n",
      "         5.14299393e-01, 6.34467959e-01, 6.10469699e-01, 9.55732465e-01,\n",
      "         8.41470122e-01, 5.39741993e-01, 2.84905314e-01, 3.65893841e-01,\n",
      "         4.47809458e-01, 5.51259518e-02, 1.37994647e-01, 3.32277656e-01,\n",
      "         9.77335215e-01, 2.72036314e-01, 7.90857553e-01, 1.77142620e-01,\n",
      "         7.25242734e-01, 7.77873158e-01, 7.83225060e-01, 8.21829915e-01],\n",
      "        [5.36910057e-01, 4.09068346e-01, 1.54609680e-02, 7.88566113e-01,\n",
      "         8.03546906e-01, 8.08928370e-01, 5.54323077e-01, 3.39903593e-01,\n",
      "         8.67890000e-01, 3.01780462e-01, 3.88722658e-01, 5.69292665e-01,\n",
      "         5.88511229e-02, 1.61756873e-01, 7.87947059e-01, 3.05573940e-01,\n",
      "         7.13249445e-02, 6.61816716e-01, 2.88889885e-01, 2.57308722e-01,\n",
      "         7.98378825e-01, 6.40401840e-02, 5.98657489e-01, 6.08966351e-02,\n",
      "         4.20191050e-01, 6.19227529e-01, 7.33256936e-01, 9.47908759e-01]],\n",
      "\n",
      "       [[4.46903706e-02, 2.27173567e-02, 4.04498339e-01, 9.39839363e-01,\n",
      "         3.53628397e-02, 1.81606293e-01, 4.40816045e-01, 9.23305273e-01,\n",
      "         6.00841045e-01, 2.88991570e-01, 4.87423420e-01, 2.09606409e-01,\n",
      "         6.21025443e-01, 5.15667081e-01, 1.46927834e-02, 2.53645182e-02,\n",
      "         3.06259632e-01, 4.20361757e-01, 2.53031254e-01, 4.00403023e-01,\n",
      "         4.99365449e-01, 2.10686684e-01, 3.27017069e-01, 6.07034206e-01,\n",
      "         3.05971265e-01, 5.00874519e-02, 3.75340462e-01, 2.26676583e-01],\n",
      "        [7.86006331e-01, 7.40572453e-01, 6.83986783e-01, 9.73265052e-01,\n",
      "         2.87091970e-01, 9.18082595e-01, 7.40970850e-01, 5.05156875e-01,\n",
      "         8.40143323e-01, 4.13372278e-01, 8.77353311e-01, 9.91426587e-01,\n",
      "         2.82559156e-01, 7.93104768e-01, 6.24481678e-01, 4.32746172e-01,\n",
      "         5.12655735e-01, 3.59023333e-01, 4.66416359e-01, 5.73577881e-01,\n",
      "         5.20496726e-01, 9.38828111e-01, 5.10885596e-01, 8.25096250e-01,\n",
      "         5.52367091e-01, 7.52039313e-01, 3.75508070e-01, 1.35034561e-01]],\n",
      "\n",
      "       [[7.56861567e-01, 6.56044960e-01, 8.50184560e-01, 5.56923151e-02,\n",
      "         9.42852259e-01, 8.21648717e-01, 1.29452944e-01, 9.37559962e-01,\n",
      "         9.51992512e-01, 6.21497631e-01, 7.70264149e-01, 1.61005020e-01,\n",
      "         3.95987511e-01, 5.70019603e-01, 9.28017020e-01, 4.85506773e-01,\n",
      "         7.82860637e-01, 3.03551078e-01, 9.57944870e-01, 8.62699509e-01,\n",
      "         3.76328230e-02, 5.52065372e-02, 4.85007882e-01, 2.08009005e-01,\n",
      "         9.96345282e-01, 5.98495126e-01, 7.27402687e-01, 5.47149062e-01],\n",
      "        [7.45682120e-01, 2.97474861e-03, 8.38428974e-01, 7.55583048e-01,\n",
      "         7.10783601e-01, 5.68842888e-01, 2.54924059e-01, 3.98771405e-01,\n",
      "         5.00249863e-03, 8.33425164e-01, 1.33121610e-01, 1.28904700e-01,\n",
      "         3.18541765e-01, 5.50730467e-01, 9.47683334e-01, 6.34321690e-01,\n",
      "         2.42058039e-02, 5.95755696e-01, 8.80278349e-02, 5.89706182e-01,\n",
      "         2.13271022e-01, 9.70104337e-01, 4.44923043e-01, 4.78765965e-01,\n",
      "         3.79525185e-01, 6.75478578e-01, 2.75092244e-01, 6.52464032e-01]],\n",
      "\n",
      "       [[3.09468508e-01, 1.30820632e-01, 8.71942878e-01, 1.52201176e-01,\n",
      "         8.78352523e-01, 5.13644338e-01, 7.53852963e-01, 8.84901762e-01,\n",
      "         3.66093636e-01, 8.02445769e-01, 4.69188929e-01, 2.60121703e-01,\n",
      "         8.56593847e-02, 9.77837682e-01, 5.80311418e-01, 7.38737822e-01,\n",
      "         3.89591694e-01, 6.58945560e-01, 7.77433157e-01, 5.12283683e-01,\n",
      "         6.72377467e-01, 9.29763436e-01, 6.04871631e-01, 6.64030313e-01,\n",
      "         3.39323640e-01, 2.20742345e-01, 3.58844042e-01, 2.70609617e-01],\n",
      "        [7.67803788e-01, 4.19132948e-01, 3.57325435e-01, 6.52899742e-01,\n",
      "         6.57642841e-01, 8.04609418e-01, 4.01916742e-01, 9.74665761e-01,\n",
      "         3.00078273e-01, 4.82441664e-01, 8.63841414e-01, 8.50044370e-01,\n",
      "         1.02582812e-01, 5.09075522e-01, 8.98297668e-01, 5.38372755e-01,\n",
      "         4.40174937e-01, 4.18161154e-02, 9.16350484e-01, 7.25552559e-01,\n",
      "         2.17413902e-03, 7.32047200e-01, 3.27252865e-01, 9.79907036e-01,\n",
      "         6.31970763e-01, 3.41096997e-01, 2.11297274e-01, 3.60736370e-01]],\n",
      "\n",
      "       [[2.13966370e-01, 1.29024625e-01, 4.87911105e-01, 2.30766058e-01,\n",
      "         3.25134277e-01, 4.04380918e-01, 2.25963593e-02, 4.92049098e-01,\n",
      "         3.08550239e-01, 2.39013553e-01, 9.71598148e-01, 1.71708703e-01,\n",
      "         1.26291513e-02, 7.74918437e-01, 1.32339478e-01, 6.86915040e-01,\n",
      "         4.68744278e-01, 7.75309563e-01, 7.15517998e-02, 3.93419147e-01,\n",
      "         9.96411920e-01, 7.47391105e-01, 2.35658884e-01, 7.62678623e-01,\n",
      "         8.93186927e-01, 9.50758338e-01, 6.61990523e-01, 5.76353550e-01],\n",
      "        [5.79105616e-01, 4.72775102e-01, 3.33173633e-01, 4.43512201e-02,\n",
      "         5.41916847e-01, 7.51675367e-01, 8.00805449e-01, 8.49600911e-01,\n",
      "         9.95618463e-01, 9.84860539e-01, 1.14117384e-01, 4.59231615e-01,\n",
      "         6.81411147e-01, 4.00808454e-01, 2.13656187e-01, 2.67532945e-01,\n",
      "         2.04473972e-01, 7.44839549e-01, 4.38029051e-01, 8.78780842e-01,\n",
      "         8.64501357e-01, 2.47250795e-02, 7.38788128e-01, 7.32274532e-01,\n",
      "         2.38786221e-01, 8.13134074e-01, 6.36403561e-01, 5.05616903e-01]],\n",
      "\n",
      "       [[3.03995609e-02, 6.82295084e-01, 9.30452228e-01, 4.49119925e-01,\n",
      "         8.42020512e-01, 8.46395850e-01, 7.75632620e-01, 3.04988861e-01,\n",
      "         3.50832939e-01, 6.45453930e-02, 9.15731430e-01, 1.72590375e-01,\n",
      "         1.96894407e-01, 4.49628592e-01, 8.80182981e-01, 6.26309633e-01,\n",
      "         1.06783271e-01, 9.18956518e-01, 3.61854792e-01, 3.55797052e-01,\n",
      "         7.03698874e-01, 4.93170500e-01, 4.59293008e-01, 6.82998896e-02,\n",
      "         3.02440763e-01, 5.00479937e-01, 9.60223079e-01, 4.58348393e-01],\n",
      "        [7.68665314e-01, 8.71091843e-01, 4.59757686e-01, 4.80129242e-01,\n",
      "         6.28538251e-01, 9.86002088e-01, 3.86315346e-01, 9.60890174e-01,\n",
      "         5.50246835e-01, 9.54045177e-01, 6.66432619e-01, 6.40058994e-01,\n",
      "         2.80566573e-01, 8.24533224e-01, 1.93061471e-01, 4.32677507e-01,\n",
      "         9.04199004e-01, 1.63688779e-01, 2.35754251e-02, 2.18045712e-01,\n",
      "         4.46986437e-01, 5.53951144e-01, 1.19565368e-01, 9.51518536e-01,\n",
      "         4.29128051e-01, 5.57317615e-01, 4.72895503e-01, 4.45300698e-01]],\n",
      "\n",
      "       [[5.59703588e-01, 4.62684631e-02, 5.68532467e-01, 3.37382078e-01,\n",
      "         6.76513433e-01, 3.41647506e-01, 8.93070102e-01, 2.62568593e-01,\n",
      "         1.71975255e-01, 3.59189034e-01, 6.72706008e-01, 9.03844237e-01,\n",
      "         3.35627079e-01, 6.69859409e-01, 5.89288354e-01, 1.52949214e-01,\n",
      "         7.32199907e-01, 5.72241664e-01, 1.53182507e-01, 1.98678970e-02,\n",
      "         9.84286785e-01, 6.84734344e-01, 4.36233044e-01, 8.57704043e-01,\n",
      "         9.00816441e-01, 8.01106811e-01, 1.04247212e-01, 1.35425806e-01],\n",
      "        [8.75790119e-02, 8.63416076e-01, 9.94021893e-01, 8.20310950e-01,\n",
      "         9.56492424e-02, 3.95810723e-01, 5.04649878e-01, 1.52682304e-01,\n",
      "         5.04602194e-01, 1.18615627e-01, 6.28171444e-01, 7.44024158e-01,\n",
      "         7.68198729e-01, 8.06531549e-01, 6.43322349e-01, 5.46376348e-01,\n",
      "         1.29075766e-01, 7.16567039e-03, 2.60816216e-01, 5.05932927e-01,\n",
      "         1.05369329e-01, 5.91073871e-01, 6.41830564e-01, 6.28427386e-01,\n",
      "         7.49501824e-01, 5.61014652e-01, 4.49540496e-01, 6.97775245e-01]],\n",
      "\n",
      "       [[3.44764352e-01, 6.80077434e-01, 8.62451196e-01, 1.33785367e-01,\n",
      "         3.64755630e-01, 5.03814220e-03, 1.24439001e-02, 3.76636982e-02,\n",
      "         9.35066223e-01, 7.65165925e-01, 1.34221196e-01, 9.61320996e-01,\n",
      "         1.89286470e-02, 3.28450441e-01, 1.06751323e-01, 5.78296542e-01,\n",
      "         3.10922980e-01, 2.52199054e-01, 8.73940945e-01, 2.28803158e-01,\n",
      "         8.08953881e-01, 5.11911273e-01, 2.92662263e-01, 2.79634476e-01,\n",
      "         1.57909989e-01, 5.52300334e-01, 5.76168537e-01, 2.77974725e-01],\n",
      "        [4.53281403e-03, 2.78653145e-01, 5.36079168e-01, 8.87143373e-01,\n",
      "         9.83095050e-01, 4.78091478e-01, 5.10130405e-01, 2.80238390e-02,\n",
      "         4.78387475e-01, 1.90000176e-01, 1.07095718e-01, 3.03898931e-01,\n",
      "         9.59611058e-01, 3.28905821e-01, 4.02283788e-01, 7.56749988e-01,\n",
      "         7.13986039e-01, 4.29587722e-01, 8.77989411e-01, 1.63976192e-01,\n",
      "         9.41653252e-01, 7.49354243e-01, 8.88084650e-01, 7.62934685e-02,\n",
      "         1.67786241e-01, 9.94272828e-01, 6.45373225e-01, 9.55384254e-01]],\n",
      "\n",
      "       [[6.60821915e-01, 6.09829068e-01, 5.21736979e-01, 1.77725673e-01,\n",
      "         6.76319122e-01, 8.37554097e-01, 5.98255396e-02, 8.10808063e-01,\n",
      "         2.03938723e-01, 5.98863602e-01, 6.04442716e-01, 8.60775828e-01,\n",
      "         2.09890842e-01, 3.49393368e-01, 5.29642940e-01, 4.27104235e-01,\n",
      "         3.62205505e-02, 1.63953066e-01, 6.36373281e-01, 2.87009716e-01,\n",
      "         5.88123798e-02, 7.18361139e-02, 2.51051188e-02, 9.43012118e-01,\n",
      "         7.51696467e-01, 6.54822111e-01, 1.95680737e-01, 1.53252721e-01],\n",
      "        [4.01241660e-01, 1.44302249e-01, 4.12037849e-01, 3.71045470e-01,\n",
      "         1.15503311e-01, 6.72881722e-01, 9.04995203e-01, 6.86100483e-01,\n",
      "         2.63411999e-02, 1.56330347e-01, 5.88383794e-01, 2.86054015e-01,\n",
      "         9.69502449e-01, 2.20960259e-01, 6.08023763e-01, 4.34168577e-02,\n",
      "         1.42897367e-02, 8.59048843e-01, 6.02191687e-01, 7.23947883e-01,\n",
      "         5.23427725e-01, 4.75971699e-02, 9.91811872e-01, 7.85785079e-01,\n",
      "         9.16830897e-01, 8.36001515e-01, 8.88763666e-02, 1.62031889e-01]],\n",
      "\n",
      "       [[8.60800624e-01, 1.70473456e-01, 2.20219851e-01, 4.96207833e-01,\n",
      "         6.77084088e-01, 9.53067660e-01, 1.82090998e-02, 5.67437410e-01,\n",
      "         4.63909268e-01, 3.02434444e-01, 3.89606237e-01, 3.69622707e-02,\n",
      "         5.06398320e-01, 5.73063612e-01, 4.29085732e-01, 1.65983915e-01,\n",
      "         6.44646406e-01, 5.69313049e-01, 2.76407719e-01, 7.74722219e-01,\n",
      "         1.62001014e-01, 1.27396941e-01, 1.27915978e-01, 4.01139140e-01,\n",
      "         4.13224578e-01, 6.24430656e-01, 6.00262165e-01, 9.65833545e-01],\n",
      "        [2.31359124e-01, 3.23615074e-01, 1.24747276e-01, 9.89105225e-01,\n",
      "         5.54765224e-01, 1.19328976e-01, 8.12134624e-01, 8.88063788e-01,\n",
      "         3.71200442e-01, 2.51766443e-02, 5.80387712e-01, 7.05775023e-01,\n",
      "         9.90592718e-01, 9.21241045e-01, 2.91754007e-01, 9.10243154e-01,\n",
      "         4.28689837e-01, 7.04595804e-01, 6.62451982e-02, 7.86058187e-01,\n",
      "         4.92924571e-01, 3.83219719e-01, 6.54084206e-01, 5.12263656e-01,\n",
      "         5.07916808e-01, 7.56454825e-01, 8.98300529e-01, 8.36936235e-01]],\n",
      "\n",
      "       [[6.47428036e-02, 5.28484464e-01, 8.68360996e-01, 8.19247007e-01,\n",
      "         5.48510313e-01, 5.62836051e-01, 9.93025184e-01, 5.92254758e-01,\n",
      "         1.18587732e-01, 7.28711486e-01, 1.57064557e-01, 6.06873274e-01,\n",
      "         3.64256501e-01, 6.70819879e-01, 4.59901094e-01, 1.06556296e-01,\n",
      "         6.49825931e-01, 9.47278738e-01, 9.69786167e-01, 5.49401522e-01,\n",
      "         9.83403087e-01, 5.88120818e-01, 1.99134231e-01, 7.31657743e-02,\n",
      "         5.41457534e-01, 2.00080633e-01, 1.77734733e-01, 9.95454192e-01],\n",
      "        [5.07587552e-01, 6.49882674e-01, 4.83489871e-01, 1.90471411e-02,\n",
      "         2.79985428e-01, 3.07162166e-01, 3.56153488e-01, 8.50352049e-02,\n",
      "         7.16229320e-01, 8.72984052e-01, 1.40950680e-01, 6.61703825e-01,\n",
      "         1.11795425e-01, 6.44427061e-01, 4.11341310e-01, 9.05370712e-01,\n",
      "         4.49546814e-01, 3.47844005e-01, 9.08917189e-02, 2.11421967e-01,\n",
      "         3.30980897e-01, 8.94120812e-01, 4.18529630e-01, 3.97695780e-01,\n",
      "         1.10747933e-01, 5.95106483e-01, 8.16482782e-01, 1.30047917e-01]],\n",
      "\n",
      "       [[7.02873468e-01, 2.02694416e-01, 3.45748305e-01, 7.09497809e-01,\n",
      "         6.78992391e-01, 5.33909798e-01, 3.88665199e-02, 6.75080776e-01,\n",
      "         1.54968739e-01, 2.51759529e-01, 2.86000371e-01, 8.01538825e-01,\n",
      "         5.03978729e-01, 1.18572593e-01, 8.63593340e-01, 6.12179995e-01,\n",
      "         2.99712658e-01, 4.85772491e-01, 3.24000001e-01, 9.32548881e-01,\n",
      "         5.94964981e-01, 7.41248131e-02, 8.76532197e-01, 5.25251150e-01,\n",
      "         1.50907874e-01, 1.67114615e-01, 4.26651120e-01, 2.12281942e-01],\n",
      "        [8.12936664e-01, 5.17819762e-01, 4.15321827e-01, 1.26008153e-01,\n",
      "         2.50340223e-01, 4.25772309e-01, 7.72838593e-02, 1.98664784e-01,\n",
      "         6.13816261e-01, 7.50740767e-01, 5.63910127e-01, 5.33220530e-01,\n",
      "         2.30225801e-01, 1.65499091e-01, 4.78706002e-01, 1.67108774e-02,\n",
      "         4.01035428e-01, 6.15345478e-01, 6.00721478e-01, 9.02783155e-01,\n",
      "         9.48932409e-01, 1.87890768e-01, 7.82650232e-01, 1.48305893e-01,\n",
      "         9.47518706e-01, 8.08507562e-01, 7.24867344e-01, 2.99195170e-01]],\n",
      "\n",
      "       [[2.60437131e-01, 1.02591753e-01, 5.50597072e-01, 7.59828091e-01,\n",
      "         7.64641523e-01, 6.81738257e-01, 9.87454176e-01, 7.54623652e-01,\n",
      "         4.27979469e-01, 1.05201602e-01, 2.35886812e-01, 9.59160089e-01,\n",
      "         3.75524640e-01, 6.33500814e-01, 3.83328199e-01, 9.43299890e-01,\n",
      "         4.11985159e-01, 9.39422011e-01, 8.94594789e-01, 2.11861014e-01,\n",
      "         5.02988100e-02, 3.75143170e-01, 5.92575192e-01, 6.80321455e-02,\n",
      "         9.80235815e-01, 5.86338520e-01, 2.35174656e-01, 7.88331151e-01],\n",
      "        [9.28027630e-01, 2.01526880e-02, 7.11199164e-01, 4.03673053e-01,\n",
      "         7.75046349e-01, 4.28487062e-01, 8.27692628e-01, 8.75612140e-01,\n",
      "         2.36404300e-01, 2.11534381e-01, 3.42526436e-01, 3.62033606e-01,\n",
      "         1.70230865e-03, 2.27404714e-01, 6.29169106e-01, 9.45531607e-01,\n",
      "         1.12987638e-01, 4.52339649e-02, 2.31363773e-01, 6.67488575e-02,\n",
      "         4.94310617e-01, 3.36413145e-01, 6.71869159e-01, 5.23309231e-01,\n",
      "         7.54031420e-01, 4.13251877e-01, 7.52341270e-01, 3.71478200e-01]],\n",
      "\n",
      "       [[7.94398665e-01, 4.43997741e-01, 2.76640415e-01, 5.98276258e-01,\n",
      "         6.15859270e-01, 7.58050919e-01, 5.29239535e-01, 8.51086259e-01,\n",
      "         7.43540645e-01, 9.64366674e-01, 2.87377834e-02, 2.27195859e-01,\n",
      "         9.22795177e-01, 2.15353966e-01, 4.94358301e-01, 4.48993206e-01,\n",
      "         9.20295715e-04, 2.66045332e-01, 9.90303278e-01, 7.78243542e-01,\n",
      "         9.77465749e-01, 7.49547005e-01, 9.70835686e-01, 8.88561249e-01,\n",
      "         4.64081407e-01, 9.80613351e-01, 6.33284807e-01, 6.84677243e-01],\n",
      "        [9.71339941e-01, 7.88992167e-01, 1.43602610e-01, 1.02216125e-01,\n",
      "         2.58091688e-01, 9.12357807e-01, 5.12657166e-02, 5.30985355e-01,\n",
      "         8.60360742e-01, 8.18823218e-01, 6.07441664e-02, 3.90789866e-01,\n",
      "         8.58090281e-01, 1.90869093e-01, 1.52957916e-01, 7.10039377e-01,\n",
      "         8.41786385e-01, 6.61265969e-01, 5.69218516e-01, 1.76442862e-02,\n",
      "         4.15136695e-01, 1.67814136e-01, 5.97188473e-02, 9.59788203e-01,\n",
      "         7.21174002e-01, 9.92731571e-01, 6.84488058e-01, 6.62146091e-01]],\n",
      "\n",
      "       [[9.06504512e-01, 4.33674693e-01, 4.14139032e-01, 2.08136559e-01,\n",
      "         5.61765075e-01, 8.59076619e-01, 1.44446850e-01, 8.81093979e-01,\n",
      "         9.03997779e-01, 4.74321723e-01, 9.70800519e-01, 8.44153047e-01,\n",
      "         4.95528936e-01, 8.78746629e-01, 6.08488798e-01, 7.19597936e-01,\n",
      "         8.86074305e-02, 8.49819183e-03, 4.98147011e-02, 7.03153849e-01,\n",
      "         6.32625699e-01, 4.66523051e-01, 1.50475025e-01, 7.82575727e-01,\n",
      "         3.91270280e-01, 5.56431890e-01, 7.30395555e-01, 1.45714521e-01],\n",
      "        [4.30179477e-01, 4.90095019e-01, 4.29863930e-02, 9.03169036e-01,\n",
      "         8.79312754e-01, 8.11374187e-01, 6.84786797e-01, 6.81346774e-01,\n",
      "         9.59248900e-01, 3.92161012e-01, 6.28498912e-01, 8.84834170e-01,\n",
      "         2.50059843e-01, 2.25072861e-01, 2.28386402e-01, 5.60512662e-01,\n",
      "         3.48721027e-01, 9.01526570e-01, 3.04999352e-02, 3.63800168e-01,\n",
      "         6.23388529e-01, 5.24312377e-01, 1.33856416e-01, 3.46176624e-02,\n",
      "         6.33056760e-01, 6.48672223e-01, 9.28363919e-01, 3.56420040e-01]],\n",
      "\n",
      "       [[6.09375477e-01, 7.17853785e-01, 2.57033467e-01, 8.88272762e-01,\n",
      "         8.70666146e-01, 8.99264812e-02, 3.99272680e-01, 5.95615625e-01,\n",
      "         4.45868850e-01, 9.47854638e-01, 8.12109709e-01, 9.51936245e-02,\n",
      "         9.85032439e-01, 5.16644001e-01, 1.50778890e-01, 9.52235579e-01,\n",
      "         1.53816342e-01, 4.48682308e-02, 1.85440421e-01, 1.97481751e-01,\n",
      "         7.92029738e-01, 6.35586143e-01, 2.17555523e-01, 5.80287218e-01,\n",
      "         1.35361433e-01, 9.98926520e-01, 4.69743371e-01, 3.48882675e-02],\n",
      "        [7.42849231e-01, 6.36599422e-01, 8.99573088e-01, 6.40540481e-01,\n",
      "         8.29914331e-01, 2.34314919e-01, 4.41933870e-01, 6.28228188e-01,\n",
      "         4.88163352e-01, 8.89832139e-01, 4.87728834e-01, 1.36701822e-01,\n",
      "         7.97253966e-01, 3.37024927e-01, 7.98089743e-01, 4.32701230e-01,\n",
      "         8.52695704e-02, 3.81700993e-01, 8.52705240e-02, 6.59673572e-01,\n",
      "         6.93428993e-01, 3.01726699e-01, 6.53664231e-01, 7.77347326e-01,\n",
      "         3.66693258e-01, 1.81991100e-01, 7.76212215e-01, 7.00436234e-01]]],\n",
      "      dtype=float32)>,) and kwargs: {} for signature: (images: TensorSpec(shape=(None, 28, 28), dtype=tf.float32, name=None)).\n"
     ]
    }
   ],
   "source": [
    "try:\n",
    "    batched_shrink(tf.random.uniform(shape=(16, 2, 28)))\n",
    "except TypeError as err:\n",
    "    print(err)"
   ]
  },
  {
   "cell_type": "code",
   "execution_count": 87,
   "id": "57317c13-1ea3-4cc7-a0ac-fea32e80fd2f",
   "metadata": {
    "execution": {
     "iopub.execute_input": "2023-10-31T08:18:27.636920Z",
     "iopub.status.busy": "2023-10-31T08:18:27.636452Z",
     "iopub.status.idle": "2023-10-31T08:18:27.643636Z",
     "shell.execute_reply": "2023-10-31T08:18:27.642883Z",
     "shell.execute_reply.started": "2023-10-31T08:18:27.636886Z"
    }
   },
   "outputs": [],
   "source": [
    "@tf.function\n",
    "def shrink(images):\n",
    "    return images[:, ::2, ::2]"
   ]
  },
  {
   "cell_type": "code",
   "execution_count": 88,
   "id": "6d1c78d8-edc3-4b36-b116-c5c36cc348d1",
   "metadata": {
    "execution": {
     "iopub.execute_input": "2023-10-31T08:18:53.605514Z",
     "iopub.status.busy": "2023-10-31T08:18:53.605111Z",
     "iopub.status.idle": "2023-10-31T08:18:53.620869Z",
     "shell.execute_reply": "2023-10-31T08:18:53.620658Z",
     "shell.execute_reply.started": "2023-10-31T08:18:53.605485Z"
    }
   },
   "outputs": [
    {
     "data": {
      "text/plain": [
       "False"
      ]
     },
     "execution_count": 88,
     "metadata": {},
     "output_type": "execute_result"
    }
   ],
   "source": [
    "shrink.get_concrete_function(\n",
    "    tf.random.uniform(shape=(128, 28, 28))\n",
    ") is shrink.get_concrete_function(tf.random.uniform(shape=(32, 28, 28)))"
   ]
  },
  {
   "cell_type": "code",
   "execution_count": 91,
   "id": "4bccfd66-ad9b-4d6d-b08c-d79ac5e1dc5f",
   "metadata": {
    "execution": {
     "iopub.execute_input": "2023-10-31T08:20:31.225139Z",
     "iopub.status.busy": "2023-10-31T08:20:31.224718Z",
     "iopub.status.idle": "2023-10-31T08:20:31.253270Z",
     "shell.execute_reply": "2023-10-31T08:20:31.253027Z",
     "shell.execute_reply.started": "2023-10-31T08:20:31.225112Z"
    },
    "scrolled": true
   },
   "outputs": [
    {
     "data": {
      "text/plain": [
       "<tf.Tensor: shape=(16, 1, 14), dtype=float32, numpy=\n",
       "array([[[5.5466044e-01, 5.7885468e-01, 7.3367834e-02, 1.3519883e-01,\n",
       "         8.1235993e-01, 3.4821796e-01, 8.2275414e-01, 1.8782938e-01,\n",
       "         2.9290509e-01, 1.3511157e-01, 1.8290842e-01, 4.8319578e-02,\n",
       "         6.0969758e-01, 3.0236268e-01]],\n",
       "\n",
       "       [[4.6987057e-01, 6.9005466e-01, 8.6758709e-01, 8.3288431e-01,\n",
       "         8.7908614e-01, 1.1861253e-01, 6.2187314e-01, 2.1616793e-01,\n",
       "         4.2568839e-01, 5.5463839e-01, 8.5001683e-01, 3.5272396e-01,\n",
       "         1.7925811e-01, 1.4986527e-01]],\n",
       "\n",
       "       [[2.3521924e-01, 7.0750868e-01, 8.1413519e-01, 7.5246453e-01,\n",
       "         6.4898860e-01, 9.0970278e-02, 5.8919466e-01, 8.8644862e-02,\n",
       "         2.2734189e-01, 9.1975594e-01, 5.9229255e-02, 1.3014781e-01,\n",
       "         4.0469003e-01, 6.3484824e-01]],\n",
       "\n",
       "       [[9.5108485e-01, 6.9119644e-01, 4.0788651e-01, 3.5062480e-01,\n",
       "         7.5474679e-01, 1.1422253e-01, 3.3159709e-01, 9.8407471e-01,\n",
       "         2.1552801e-02, 1.5179634e-02, 5.2091646e-01, 2.8178537e-01,\n",
       "         7.0026171e-01, 5.8396530e-01]],\n",
       "\n",
       "       [[4.9674416e-01, 6.4461267e-01, 9.3470418e-01, 4.2609370e-01,\n",
       "         9.4297647e-01, 3.4266508e-01, 7.1841455e-01, 1.4718354e-01,\n",
       "         4.0803492e-01, 1.4156008e-01, 9.2421639e-01, 8.9728892e-01,\n",
       "         6.0732663e-01, 3.7022591e-02]],\n",
       "\n",
       "       [[6.0233319e-01, 8.2013857e-01, 1.9988215e-01, 3.3365273e-01,\n",
       "         4.7366464e-01, 5.0457788e-01, 3.8536310e-02, 8.6950898e-02,\n",
       "         6.4122760e-01, 4.7086477e-02, 8.6305010e-01, 1.3356268e-01,\n",
       "         5.1367760e-02, 6.7598283e-01]],\n",
       "\n",
       "       [[3.8074958e-01, 4.7765911e-01, 1.9012582e-01, 2.2563279e-01,\n",
       "         5.1455438e-01, 3.4384906e-01, 6.7361593e-02, 4.1235971e-01,\n",
       "         7.1160948e-01, 2.8001285e-01, 4.8629415e-01, 1.0724020e-01,\n",
       "         9.8717296e-01, 2.6727140e-01]],\n",
       "\n",
       "       [[8.4892082e-01, 2.6848984e-01, 3.8303745e-01, 3.7316918e-01,\n",
       "         9.0106666e-01, 2.6593304e-01, 6.4858413e-01, 4.9205148e-01,\n",
       "         2.3869872e-02, 2.1345067e-01, 1.6127121e-01, 4.4708920e-01,\n",
       "         1.7460942e-01, 1.0466635e-01]],\n",
       "\n",
       "       [[3.5286224e-01, 7.6505589e-01, 5.4980040e-02, 3.3236909e-01,\n",
       "         5.6999266e-01, 5.3602147e-01, 2.0671713e-01, 9.8332703e-01,\n",
       "         5.8447230e-01, 1.0175860e-01, 3.8890839e-01, 8.2432091e-01,\n",
       "         6.1953700e-01, 7.8035593e-03]],\n",
       "\n",
       "       [[4.8258960e-01, 8.2579195e-01, 4.2964900e-01, 4.8989856e-01,\n",
       "         9.1996872e-01, 9.9221241e-01, 2.1628916e-01, 3.0315900e-01,\n",
       "         3.2029724e-01, 5.7882762e-01, 7.1383536e-01, 1.2069738e-01,\n",
       "         6.0603976e-02, 4.5396626e-01]],\n",
       "\n",
       "       [[8.8276076e-01, 4.1103363e-01, 2.1782196e-01, 8.7464058e-01,\n",
       "         2.9951096e-02, 3.2213342e-01, 1.0617614e-02, 2.7118969e-01,\n",
       "         9.6374750e-03, 1.9214654e-01, 2.5213730e-01, 5.9879160e-01,\n",
       "         3.4501612e-01, 5.3856790e-01]],\n",
       "\n",
       "       [[1.9803286e-02, 3.4654987e-01, 5.1544237e-01, 4.3734002e-01,\n",
       "         1.2246144e-01, 7.6020491e-01, 2.1824789e-01, 5.4774296e-01,\n",
       "         7.6871502e-01, 3.4839523e-01, 7.9049957e-01, 6.5805483e-01,\n",
       "         3.6396742e-01, 9.2709780e-02]],\n",
       "\n",
       "       [[1.0369980e-01, 9.9549365e-01, 5.1887476e-01, 6.0857022e-01,\n",
       "         1.3225353e-01, 2.1708727e-01, 7.0204902e-01, 8.1032348e-01,\n",
       "         7.0331097e-01, 2.1377552e-01, 7.4154711e-01, 9.7683120e-01,\n",
       "         2.6911736e-01, 7.1814108e-01]],\n",
       "\n",
       "       [[2.0673490e-01, 6.9716001e-01, 4.6730518e-01, 3.7136269e-01,\n",
       "         9.8695040e-01, 6.8136847e-01, 5.5096936e-01, 5.5836606e-01,\n",
       "         7.9795098e-01, 2.8063428e-01, 1.9282758e-01, 6.8977511e-01,\n",
       "         1.3283610e-01, 7.2269988e-01]],\n",
       "\n",
       "       [[4.1691709e-01, 9.4954133e-01, 6.0000849e-01, 4.8475075e-01,\n",
       "         7.3243320e-01, 5.9719372e-01, 7.5788927e-01, 7.0428848e-04,\n",
       "         2.2627318e-01, 6.1111546e-01, 7.8760993e-01, 8.2764876e-01,\n",
       "         6.9531417e-01, 9.0809274e-01]],\n",
       "\n",
       "       [[5.4904807e-01, 1.5658975e-01, 8.4936500e-01, 2.0747912e-01,\n",
       "         7.4639201e-01, 3.7217999e-01, 2.5565648e-01, 5.8515751e-01,\n",
       "         9.5357585e-01, 2.2796750e-01, 5.8646715e-01, 2.2882617e-01,\n",
       "         5.8734584e-01, 7.2744536e-01]]], dtype=float32)>"
      ]
     },
     "execution_count": 91,
     "metadata": {},
     "output_type": "execute_result"
    }
   ],
   "source": [
    "shrink(tf.random.uniform(shape=(16, 2, 28)))"
   ]
  },
  {
   "cell_type": "markdown",
   "id": "64b483e8-9029-4863-98b8-4c3967ddf4f5",
   "metadata": {},
   "source": [
    "## Autograph"
   ]
  },
  {
   "cell_type": "code",
   "execution_count": 116,
   "id": "b22cdb76-36b0-4dbe-923d-6cf79c4c3084",
   "metadata": {
    "execution": {
     "iopub.execute_input": "2023-11-01T04:54:46.791075Z",
     "iopub.status.busy": "2023-11-01T04:54:46.790643Z",
     "iopub.status.idle": "2023-11-01T04:54:46.793188Z",
     "shell.execute_reply": "2023-11-01T04:54:46.792933Z",
     "shell.execute_reply.started": "2023-11-01T04:54:46.791064Z"
    }
   },
   "outputs": [],
   "source": [
    "import tensorflow as tf\n",
    "\n",
    "\n",
    "@tf.function\n",
    "def add_10(x):\n",
    "    cond = lambda i, x: tf.less(i, 10)\n",
    "\n",
    "    # body = lambda i, x: (tf.add(i, 1), tf.add(x, 1))\n",
    "    def body(i, x):\n",
    "        print(\"Tracing...\")\n",
    "        tf.print(\"Executing...\")\n",
    "        return tf.add(i, 1), tf.add(x, 1)\n",
    "\n",
    "    res_i, res_x = tf.while_loop(cond, body, [0, x])\n",
    "    return res_x"
   ]
  },
  {
   "cell_type": "code",
   "execution_count": 117,
   "id": "a618c964-25d4-4b39-aa7a-ac12a9f46c76",
   "metadata": {
    "execution": {
     "iopub.execute_input": "2023-11-01T04:54:47.804286Z",
     "iopub.status.busy": "2023-11-01T04:54:47.803704Z",
     "iopub.status.idle": "2023-11-01T04:54:47.840973Z",
     "shell.execute_reply": "2023-11-01T04:54:47.840734Z",
     "shell.execute_reply.started": "2023-11-01T04:54:47.804254Z"
    }
   },
   "outputs": [
    {
     "name": "stdout",
     "output_type": "stream",
     "text": [
      "Tracing...\n",
      "Executing...\n",
      "Executing...\n",
      "Executing...\n",
      "Executing...\n",
      "Executing...\n",
      "Executing...\n",
      "Executing...\n",
      "Executing...\n",
      "Executing...\n",
      "Executing...\n"
     ]
    },
    {
     "data": {
      "text/plain": [
       "<tf.Tensor: shape=(), dtype=int32, numpy=11>"
      ]
     },
     "execution_count": 117,
     "metadata": {},
     "output_type": "execute_result"
    }
   ],
   "source": [
    "add_10(tf.constant(1))"
   ]
  },
  {
   "cell_type": "code",
   "execution_count": 98,
   "id": "6d7bf67c-8715-448d-9110-9878c8fe2095",
   "metadata": {
    "execution": {
     "iopub.execute_input": "2023-11-01T04:40:17.533597Z",
     "iopub.status.busy": "2023-11-01T04:40:17.533465Z",
     "iopub.status.idle": "2023-11-01T04:40:17.536660Z",
     "shell.execute_reply": "2023-11-01T04:40:17.536440Z",
     "shell.execute_reply.started": "2023-11-01T04:40:17.533589Z"
    }
   },
   "outputs": [
    {
     "data": {
      "text/plain": [
       "[<tf.Operation 'x' type=Placeholder>,\n",
       " <tf.Operation 'Const' type=Const>,\n",
       " <tf.Operation 'while/maximum_iterations' type=Const>,\n",
       " <tf.Operation 'while/loop_counter' type=Const>,\n",
       " <tf.Operation 'while' type=While>,\n",
       " <tf.Operation 'Identity' type=Identity>,\n",
       " <tf.Operation 'NoOp' type=NoOp>]"
      ]
     },
     "execution_count": 98,
     "metadata": {},
     "output_type": "execute_result"
    }
   ],
   "source": [
    "add_10.get_concrete_function(tf.constant(1)).graph.get_operations()"
   ]
  },
  {
   "cell_type": "code",
   "execution_count": 127,
   "id": "d80b4d2a-4ee0-423b-9864-f8bd1ec6c651",
   "metadata": {
    "execution": {
     "iopub.execute_input": "2023-11-01T05:00:26.006442Z",
     "iopub.status.busy": "2023-11-01T05:00:26.005878Z",
     "iopub.status.idle": "2023-11-01T05:00:26.013212Z",
     "shell.execute_reply": "2023-11-01T05:00:26.012410Z",
     "shell.execute_reply.started": "2023-11-01T05:00:26.006407Z"
    }
   },
   "outputs": [],
   "source": [
    "@tf.function\n",
    "def stat_add_10(x):\n",
    "    for i in range(10):\n",
    "        print(\"Tracing...\")\n",
    "        tf.print(\"Executing...\")\n",
    "        x += 1\n",
    "    return x"
   ]
  },
  {
   "cell_type": "code",
   "execution_count": 128,
   "id": "ff8c96da-0d59-4774-9fed-228b1a6f96e2",
   "metadata": {
    "execution": {
     "iopub.execute_input": "2023-11-01T05:00:26.533312Z",
     "iopub.status.busy": "2023-11-01T05:00:26.532926Z",
     "iopub.status.idle": "2023-11-01T05:00:26.572329Z",
     "shell.execute_reply": "2023-11-01T05:00:26.571977Z",
     "shell.execute_reply.started": "2023-11-01T05:00:26.533286Z"
    }
   },
   "outputs": [
    {
     "name": "stdout",
     "output_type": "stream",
     "text": [
      "Tracing...\n",
      "Tracing...\n",
      "Tracing...\n",
      "Tracing...\n",
      "Tracing...\n",
      "Tracing...\n",
      "Tracing...\n",
      "Tracing...\n",
      "Tracing...\n",
      "Tracing...\n",
      "Executing...\n",
      "Executing...\n",
      "Executing...\n",
      "Executing...\n",
      "Executing...\n",
      "Executing...\n",
      "Executing...\n",
      "Executing...\n",
      "Executing...\n",
      "Executing...\n"
     ]
    },
    {
     "data": {
      "text/plain": [
       "<tf.Tensor: shape=(), dtype=int32, numpy=11>"
      ]
     },
     "execution_count": 128,
     "metadata": {},
     "output_type": "execute_result"
    }
   ],
   "source": [
    "stat_add_10(tf.constant(1))"
   ]
  },
  {
   "cell_type": "code",
   "execution_count": 114,
   "id": "f104faa0-e867-47a7-a039-7fbf5eaf2164",
   "metadata": {
    "execution": {
     "iopub.execute_input": "2023-11-01T04:53:45.895633Z",
     "iopub.status.busy": "2023-11-01T04:53:45.894567Z",
     "iopub.status.idle": "2023-11-01T04:53:45.902401Z",
     "shell.execute_reply": "2023-11-01T04:53:45.901784Z",
     "shell.execute_reply.started": "2023-11-01T04:53:45.895583Z"
    }
   },
   "outputs": [
    {
     "data": {
      "text/plain": [
       "[<tf.Operation 'x' type=Placeholder>,\n",
       " <tf.Operation 'add/y' type=Const>,\n",
       " <tf.Operation 'add' type=AddV2>,\n",
       " <tf.Operation 'add_1/y' type=Const>,\n",
       " <tf.Operation 'add_1' type=AddV2>,\n",
       " <tf.Operation 'add_2/y' type=Const>,\n",
       " <tf.Operation 'add_2' type=AddV2>,\n",
       " <tf.Operation 'add_3/y' type=Const>,\n",
       " <tf.Operation 'add_3' type=AddV2>,\n",
       " <tf.Operation 'add_4/y' type=Const>,\n",
       " <tf.Operation 'add_4' type=AddV2>,\n",
       " <tf.Operation 'add_5/y' type=Const>,\n",
       " <tf.Operation 'add_5' type=AddV2>,\n",
       " <tf.Operation 'add_6/y' type=Const>,\n",
       " <tf.Operation 'add_6' type=AddV2>,\n",
       " <tf.Operation 'add_7/y' type=Const>,\n",
       " <tf.Operation 'add_7' type=AddV2>,\n",
       " <tf.Operation 'add_8/y' type=Const>,\n",
       " <tf.Operation 'add_8' type=AddV2>,\n",
       " <tf.Operation 'add_9/y' type=Const>,\n",
       " <tf.Operation 'add_9' type=AddV2>,\n",
       " <tf.Operation 'Identity' type=Identity>]"
      ]
     },
     "execution_count": 114,
     "metadata": {},
     "output_type": "execute_result"
    }
   ],
   "source": [
    "stat_add_10.get_concrete_function(tf.constant(10)).graph.get_operations()"
   ]
  },
  {
   "cell_type": "code",
   "execution_count": 124,
   "id": "8d4d5e54-a2dc-4d98-a731-443ab30a2083",
   "metadata": {
    "execution": {
     "iopub.execute_input": "2023-11-01T04:59:46.476397Z",
     "iopub.status.busy": "2023-11-01T04:59:46.475938Z",
     "iopub.status.idle": "2023-11-01T04:59:46.482508Z",
     "shell.execute_reply": "2023-11-01T04:59:46.481828Z",
     "shell.execute_reply.started": "2023-11-01T04:59:46.476365Z"
    }
   },
   "outputs": [],
   "source": [
    "@tf.function\n",
    "def dyn_add_10(x):\n",
    "    for i in tf.range(10):\n",
    "        print(\"Tracing...\")\n",
    "        tf.print(\"Executing...\")\n",
    "        x += 1\n",
    "    return x"
   ]
  },
  {
   "cell_type": "code",
   "execution_count": 125,
   "id": "d4cc2b22-d5cd-4a55-b437-726e80eed966",
   "metadata": {
    "execution": {
     "iopub.execute_input": "2023-11-01T04:59:47.051999Z",
     "iopub.status.busy": "2023-11-01T04:59:47.051858Z",
     "iopub.status.idle": "2023-11-01T04:59:47.096415Z",
     "shell.execute_reply": "2023-11-01T04:59:47.096130Z",
     "shell.execute_reply.started": "2023-11-01T04:59:47.051991Z"
    }
   },
   "outputs": [
    {
     "name": "stdout",
     "output_type": "stream",
     "text": [
      "Tracing...\n",
      "Executing...\n",
      "Executing...\n",
      "Executing...\n",
      "Executing...\n",
      "Executing...\n",
      "Executing...\n",
      "Executing...\n",
      "Executing...\n",
      "Executing...\n",
      "Executing...\n"
     ]
    },
    {
     "data": {
      "text/plain": [
       "<tf.Tensor: shape=(), dtype=int32, numpy=11>"
      ]
     },
     "execution_count": 125,
     "metadata": {},
     "output_type": "execute_result"
    }
   ],
   "source": [
    "dyn_add_10(tf.constant(1))"
   ]
  },
  {
   "cell_type": "code",
   "execution_count": 126,
   "id": "b00c79aa-7f2a-46cb-bf7b-f6096d080561",
   "metadata": {
    "execution": {
     "iopub.execute_input": "2023-11-01T04:59:53.347213Z",
     "iopub.status.busy": "2023-11-01T04:59:53.346771Z",
     "iopub.status.idle": "2023-11-01T04:59:53.354989Z",
     "shell.execute_reply": "2023-11-01T04:59:53.354052Z",
     "shell.execute_reply.started": "2023-11-01T04:59:53.347183Z"
    }
   },
   "outputs": [
    {
     "data": {
      "text/plain": [
       "[<tf.Operation 'x' type=Placeholder>,\n",
       " <tf.Operation 'range/start' type=Const>,\n",
       " <tf.Operation 'range/limit' type=Const>,\n",
       " <tf.Operation 'range/delta' type=Const>,\n",
       " <tf.Operation 'range' type=Range>,\n",
       " <tf.Operation 'sub' type=Sub>,\n",
       " <tf.Operation 'floordiv' type=FloorDiv>,\n",
       " <tf.Operation 'mod' type=FloorMod>,\n",
       " <tf.Operation 'zeros_like' type=Const>,\n",
       " <tf.Operation 'NotEqual' type=NotEqual>,\n",
       " <tf.Operation 'Cast' type=Cast>,\n",
       " <tf.Operation 'add' type=AddV2>,\n",
       " <tf.Operation 'zeros_like_1' type=Const>,\n",
       " <tf.Operation 'Maximum' type=Maximum>,\n",
       " <tf.Operation 'while/maximum_iterations' type=Const>,\n",
       " <tf.Operation 'while/loop_counter' type=Const>,\n",
       " <tf.Operation 'while' type=While>,\n",
       " <tf.Operation 'Identity' type=Identity>,\n",
       " <tf.Operation 'NoOp' type=NoOp>]"
      ]
     },
     "execution_count": 126,
     "metadata": {},
     "output_type": "execute_result"
    }
   ],
   "source": [
    "dyn_add_10.get_concrete_function(tf.constant(10)).graph.get_operations()"
   ]
  },
  {
   "cell_type": "code",
   "execution_count": 136,
   "id": "9b0621d4-a867-4786-8282-2b84f237826e",
   "metadata": {
    "execution": {
     "iopub.execute_input": "2023-11-01T05:27:39.782367Z",
     "iopub.status.busy": "2023-11-01T05:27:39.782219Z",
     "iopub.status.idle": "2023-11-01T05:27:39.785478Z",
     "shell.execute_reply": "2023-11-01T05:27:39.785261Z",
     "shell.execute_reply.started": "2023-11-01T05:27:39.782358Z"
    }
   },
   "outputs": [
    {
     "data": {
      "text/plain": [
       "((<tf.Tensor 'while/loop_counter:0' shape=() dtype=int32>,\n",
       "  <tf.Tensor 'while/maximum_iterations:0' shape=() dtype=int32>,\n",
       "  <tf.Tensor 'range/start:0' shape=() dtype=int32>,\n",
       "  <tf.Tensor 'x:0' shape=() dtype=int32>,\n",
       "  <tf.Tensor 'range/limit:0' shape=() dtype=int32>,\n",
       "  <tf.Tensor 'range/delta:0' shape=() dtype=int32>),\n",
       " [<tf.Tensor 'while:0' shape=() dtype=int32>,\n",
       "  <tf.Tensor 'while:1' shape=() dtype=int32>,\n",
       "  <tf.Tensor 'while:2' shape=() dtype=int32>,\n",
       "  <tf.Tensor 'while:3' shape=() dtype=int32>,\n",
       "  <tf.Tensor 'while:4' shape=() dtype=int32>,\n",
       "  <tf.Tensor 'while:5' shape=() dtype=int32>])"
      ]
     },
     "execution_count": 136,
     "metadata": {},
     "output_type": "execute_result"
    }
   ],
   "source": [
    "cf = dyn_add_10.get_concrete_function(tf.constant(1))\n",
    "(\n",
    "    cf.graph.get_operation_by_name(\"while\").inputs,\n",
    "    cf.graph.get_operation_by_name(\"while\").outputs,\n",
    ")"
   ]
  }
 ],
 "metadata": {
  "kernelspec": {
   "display_name": "Python 3 (ipykernel)",
   "language": "python",
   "name": "python3"
  },
  "language_info": {
   "codemirror_mode": {
    "name": "ipython",
    "version": 3
   },
   "file_extension": ".py",
   "mimetype": "text/x-python",
   "name": "python",
   "nbconvert_exporter": "python",
   "pygments_lexer": "ipython3",
   "version": "3.10.13"
  }
 },
 "nbformat": 4,
 "nbformat_minor": 5
}
